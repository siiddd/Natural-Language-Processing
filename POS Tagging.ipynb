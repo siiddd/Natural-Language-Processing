{
  "cells": [
    {
      "cell_type": "code",
      "execution_count": 9,
      "id": "9af1a7ef",
      "metadata": {
        "id": "9af1a7ef",
        "outputId": "cd74437a-f8ce-4fe2-cbc3-939c0a4baf5d",
        "colab": {
          "base_uri": "https://localhost:8080/"
        }
      },
      "outputs": [
        {
          "output_type": "stream",
          "name": "stdout",
          "text": [
            "[nltk_data] Downloading collection 'popular'\n",
            "[nltk_data]    | \n",
            "[nltk_data]    | Downloading package cmudict to /root/nltk_data...\n",
            "[nltk_data]    |   Package cmudict is already up-to-date!\n",
            "[nltk_data]    | Downloading package gazetteers to /root/nltk_data...\n",
            "[nltk_data]    |   Package gazetteers is already up-to-date!\n",
            "[nltk_data]    | Downloading package genesis to /root/nltk_data...\n",
            "[nltk_data]    |   Package genesis is already up-to-date!\n",
            "[nltk_data]    | Downloading package gutenberg to /root/nltk_data...\n",
            "[nltk_data]    |   Package gutenberg is already up-to-date!\n",
            "[nltk_data]    | Downloading package inaugural to /root/nltk_data...\n",
            "[nltk_data]    |   Package inaugural is already up-to-date!\n",
            "[nltk_data]    | Downloading package movie_reviews to\n",
            "[nltk_data]    |     /root/nltk_data...\n",
            "[nltk_data]    |   Package movie_reviews is already up-to-date!\n",
            "[nltk_data]    | Downloading package names to /root/nltk_data...\n",
            "[nltk_data]    |   Package names is already up-to-date!\n",
            "[nltk_data]    | Downloading package shakespeare to /root/nltk_data...\n",
            "[nltk_data]    |   Package shakespeare is already up-to-date!\n",
            "[nltk_data]    | Downloading package stopwords to /root/nltk_data...\n",
            "[nltk_data]    |   Package stopwords is already up-to-date!\n",
            "[nltk_data]    | Downloading package treebank to /root/nltk_data...\n",
            "[nltk_data]    |   Package treebank is already up-to-date!\n",
            "[nltk_data]    | Downloading package twitter_samples to\n",
            "[nltk_data]    |     /root/nltk_data...\n",
            "[nltk_data]    |   Package twitter_samples is already up-to-date!\n",
            "[nltk_data]    | Downloading package omw to /root/nltk_data...\n",
            "[nltk_data]    |   Package omw is already up-to-date!\n",
            "[nltk_data]    | Downloading package omw-1.4 to /root/nltk_data...\n",
            "[nltk_data]    |   Package omw-1.4 is already up-to-date!\n",
            "[nltk_data]    | Downloading package wordnet to /root/nltk_data...\n",
            "[nltk_data]    |   Package wordnet is already up-to-date!\n",
            "[nltk_data]    | Downloading package wordnet2021 to /root/nltk_data...\n",
            "[nltk_data]    |   Package wordnet2021 is already up-to-date!\n",
            "[nltk_data]    | Downloading package wordnet31 to /root/nltk_data...\n",
            "[nltk_data]    |   Package wordnet31 is already up-to-date!\n",
            "[nltk_data]    | Downloading package wordnet_ic to /root/nltk_data...\n",
            "[nltk_data]    |   Package wordnet_ic is already up-to-date!\n",
            "[nltk_data]    | Downloading package words to /root/nltk_data...\n",
            "[nltk_data]    |   Package words is already up-to-date!\n",
            "[nltk_data]    | Downloading package maxent_ne_chunker to\n",
            "[nltk_data]    |     /root/nltk_data...\n",
            "[nltk_data]    |   Package maxent_ne_chunker is already up-to-date!\n",
            "[nltk_data]    | Downloading package punkt to /root/nltk_data...\n",
            "[nltk_data]    |   Package punkt is already up-to-date!\n",
            "[nltk_data]    | Downloading package snowball_data to\n",
            "[nltk_data]    |     /root/nltk_data...\n",
            "[nltk_data]    |   Package snowball_data is already up-to-date!\n",
            "[nltk_data]    | Downloading package averaged_perceptron_tagger to\n",
            "[nltk_data]    |     /root/nltk_data...\n",
            "[nltk_data]    |   Package averaged_perceptron_tagger is already up-\n",
            "[nltk_data]    |       to-date!\n",
            "[nltk_data]    | \n",
            "[nltk_data]  Done downloading collection popular\n"
          ]
        },
        {
          "output_type": "execute_result",
          "data": {
            "text/plain": [
              "True"
            ]
          },
          "metadata": {},
          "execution_count": 9
        }
      ],
      "source": [
        "import nltk\n",
        "nltk.download('popular')"
      ]
    },
    {
      "cell_type": "code",
      "source": [
        "nltk.download('brown')\n",
        "nltk.download('averaged_perceptron_tagger')"
      ],
      "metadata": {
        "id": "CI1jo5Dlpxop",
        "outputId": "12ef5374-f9c8-4688-fd8b-ea85e80a2ea9",
        "colab": {
          "base_uri": "https://localhost:8080/"
        }
      },
      "id": "CI1jo5Dlpxop",
      "execution_count": 10,
      "outputs": [
        {
          "output_type": "stream",
          "name": "stdout",
          "text": [
            "[nltk_data] Downloading package brown to /root/nltk_data...\n",
            "[nltk_data]   Package brown is already up-to-date!\n",
            "[nltk_data] Downloading package averaged_perceptron_tagger to\n",
            "[nltk_data]     /root/nltk_data...\n",
            "[nltk_data]   Package averaged_perceptron_tagger is already up-to-\n",
            "[nltk_data]       date!\n"
          ]
        },
        {
          "output_type": "execute_result",
          "data": {
            "text/plain": [
              "True"
            ]
          },
          "metadata": {},
          "execution_count": 10
        }
      ]
    },
    {
      "cell_type": "code",
      "source": [
        "text = nltk.word_tokenize('I love my dad very much. The cat is walking on the wall. Walking is good for health.')\n",
        "text"
      ],
      "metadata": {
        "id": "83YcYAb5oroV",
        "outputId": "72daa763-c3f0-4205-893b-4e61bda7fdfc",
        "colab": {
          "base_uri": "https://localhost:8080/"
        }
      },
      "id": "83YcYAb5oroV",
      "execution_count": 2,
      "outputs": [
        {
          "output_type": "execute_result",
          "data": {
            "text/plain": [
              "['I',\n",
              " 'love',\n",
              " 'my',\n",
              " 'dad',\n",
              " 'very',\n",
              " 'much',\n",
              " '.',\n",
              " 'The',\n",
              " 'cat',\n",
              " 'is',\n",
              " 'walking',\n",
              " 'on',\n",
              " 'the',\n",
              " 'wall',\n",
              " '.',\n",
              " 'Walking',\n",
              " 'is',\n",
              " 'good',\n",
              " 'for',\n",
              " 'health',\n",
              " '.']"
            ]
          },
          "metadata": {},
          "execution_count": 2
        }
      ]
    },
    {
      "cell_type": "markdown",
      "source": [
        "\n",
        "    CC coordinating conjunction\n",
        "    CD cardinal digit\n",
        "    DT determiner\n",
        "    EX existential there (like: “there is” … think of it like “there exists”)\n",
        "    FW foreign word\n",
        "    IN preposition/subordinating conjunction\n",
        "    JJ adjective ‘big’\n",
        "    JJR adjective, comparative ‘bigger’\n",
        "    JJS adjective, superlative ‘biggest’\n",
        "    LS list marker 1)\n",
        "    MD modal could, will\n",
        "    NN noun, singular ‘desk’\n",
        "    NNS noun plural ‘desks’\n",
        "    NNP proper noun, singular ‘Harrison’\n",
        "    NNPS proper noun, plural ‘Americans’\n",
        "    PDT predeterminer ‘all the kids’\n",
        "    POS possessive ending parent’s\n",
        "    PRP personal pronoun I, he, she\n",
        "    PRP$ possessive pronoun my, his, hers\n",
        "    RB adverb very, silently,\n",
        "    RBR adverb, comparative better\n",
        "    RBS adverb, superlative best\n",
        "    RP particle give up\n",
        "    TO, to go ‘to’ the store.\n",
        "    UH interjection, errrrrrrrm\n",
        "    VB verb, base form take\n",
        "    VBD verb, past tense took\n",
        "    VBG verb, gerund/present participle taking\n",
        "    VBN verb, past participle taken\n",
        "    VBP verb, sing. present, non-3d take\n",
        "    VBZ verb, 3rd person sing. present takes\n",
        "    WDT wh-determiner which\n",
        "    WP wh-pronoun who, what\n",
        "    WP$ possessive wh-pronoun whose\n",
        "    WRB wh-abverb where, when"
      ],
      "metadata": {
        "id": "xEWSBDGDuLbC"
      },
      "id": "xEWSBDGDuLbC"
    },
    {
      "cell_type": "code",
      "source": [
        "nltk.pos_tag(text)"
      ],
      "metadata": {
        "id": "1ofR-EMKo9Ca",
        "outputId": "f8e75964-fd9f-4033-895d-d11bb52fefcb",
        "colab": {
          "base_uri": "https://localhost:8080/"
        }
      },
      "id": "1ofR-EMKo9Ca",
      "execution_count": 3,
      "outputs": [
        {
          "output_type": "execute_result",
          "data": {
            "text/plain": [
              "[('I', 'PRP'),\n",
              " ('love', 'VBP'),\n",
              " ('my', 'PRP$'),\n",
              " ('dad', 'JJ'),\n",
              " ('very', 'RB'),\n",
              " ('much', 'RB'),\n",
              " ('.', '.'),\n",
              " ('The', 'DT'),\n",
              " ('cat', 'NN'),\n",
              " ('is', 'VBZ'),\n",
              " ('walking', 'VBG'),\n",
              " ('on', 'IN'),\n",
              " ('the', 'DT'),\n",
              " ('wall', 'NN'),\n",
              " ('.', '.'),\n",
              " ('Walking', 'NNP'),\n",
              " ('is', 'VBZ'),\n",
              " ('good', 'JJ'),\n",
              " ('for', 'IN'),\n",
              " ('health', 'NN'),\n",
              " ('.', '.')]"
            ]
          },
          "metadata": {},
          "execution_count": 3
        }
      ]
    },
    {
      "cell_type": "code",
      "source": [
        "x = nltk.Text(word for word in nltk.corpus.brown.words())"
      ],
      "metadata": {
        "id": "J2hlXxKRpEQ7"
      },
      "id": "J2hlXxKRpEQ7",
      "execution_count": 14,
      "outputs": []
    },
    {
      "cell_type": "code",
      "source": [
        "x"
      ],
      "metadata": {
        "id": "bKy2q0WPq95R",
        "outputId": "8f1a05aa-63a6-4407-9149-80ea62766956",
        "colab": {
          "base_uri": "https://localhost:8080/"
        }
      },
      "id": "bKy2q0WPq95R",
      "execution_count": 15,
      "outputs": [
        {
          "output_type": "execute_result",
          "data": {
            "text/plain": [
              "<Text: The Fulton County Grand Jury said Friday an...>"
            ]
          },
          "metadata": {},
          "execution_count": 15
        }
      ]
    },
    {
      "cell_type": "code",
      "source": [
        "x.similar('car')"
      ],
      "metadata": {
        "id": "JXw0Yww1rFa9",
        "outputId": "a2fa6190-53e1-40ab-9f4d-5daa1fd953af",
        "colab": {
          "base_uri": "https://localhost:8080/"
        }
      },
      "id": "JXw0Yww1rFa9",
      "execution_count": 34,
      "outputs": [
        {
          "output_type": "stream",
          "name": "stdout",
          "text": [
            "man time house way day room world head hand life job work wife place\n",
            "state country family year word woman\n"
          ]
        }
      ]
    },
    {
      "cell_type": "code",
      "source": [
        "x.similar('baby')"
      ],
      "metadata": {
        "id": "biXnhdMrsufc",
        "outputId": "6ac2038b-49db-4b0a-c5a6-4dbfc1af66bb",
        "colab": {
          "base_uri": "https://localhost:8080/"
        }
      },
      "id": "biXnhdMrsufc",
      "execution_count": 35,
      "outputs": [
        {
          "output_type": "stream",
          "name": "stdout",
          "text": [
            "day man time car head world country war job other state year group\n",
            "case family way room government contract city\n"
          ]
        }
      ]
    },
    {
      "cell_type": "code",
      "source": [
        "x.similar('red')"
      ],
      "metadata": {
        "id": "EaRWPeBxsy_4",
        "outputId": "9fa2f2e0-aea3-49fe-deda-9b1d88f94b2f",
        "colab": {
          "base_uri": "https://localhost:8080/"
        }
      },
      "id": "EaRWPeBxsy_4",
      "execution_count": 36,
      "outputs": [
        {
          "output_type": "stream",
          "name": "stdout",
          "text": [
            "the af it man time people state water a this all more head white mind\n",
            "war men life art two\n"
          ]
        }
      ]
    }
  ],
  "metadata": {
    "kernelspec": {
      "display_name": "Python 3 (ipykernel)",
      "language": "python",
      "name": "python3"
    },
    "language_info": {
      "codemirror_mode": {
        "name": "ipython",
        "version": 3
      },
      "file_extension": ".py",
      "mimetype": "text/x-python",
      "name": "python",
      "nbconvert_exporter": "python",
      "pygments_lexer": "ipython3",
      "version": "3.8.11"
    },
    "colab": {
      "name": "POS Tagging.ipynb",
      "provenance": []
    }
  },
  "nbformat": 4,
  "nbformat_minor": 5
}