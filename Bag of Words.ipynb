{
  "cells": [
    {
      "cell_type": "code",
      "execution_count": 1,
      "id": "9af1a7ef",
      "metadata": {
        "id": "9af1a7ef",
        "outputId": "12dc33ee-66a1-46d7-ddf6-e7ed33a267c0",
        "colab": {
          "base_uri": "https://localhost:8080/"
        }
      },
      "outputs": [
        {
          "output_type": "stream",
          "name": "stdout",
          "text": [
            "[nltk_data] Downloading collection 'popular'\n",
            "[nltk_data]    | \n",
            "[nltk_data]    | Downloading package cmudict to /root/nltk_data...\n",
            "[nltk_data]    |   Unzipping corpora/cmudict.zip.\n",
            "[nltk_data]    | Downloading package gazetteers to /root/nltk_data...\n",
            "[nltk_data]    |   Unzipping corpora/gazetteers.zip.\n",
            "[nltk_data]    | Downloading package genesis to /root/nltk_data...\n",
            "[nltk_data]    |   Unzipping corpora/genesis.zip.\n",
            "[nltk_data]    | Downloading package gutenberg to /root/nltk_data...\n",
            "[nltk_data]    |   Unzipping corpora/gutenberg.zip.\n",
            "[nltk_data]    | Downloading package inaugural to /root/nltk_data...\n",
            "[nltk_data]    |   Unzipping corpora/inaugural.zip.\n",
            "[nltk_data]    | Downloading package movie_reviews to\n",
            "[nltk_data]    |     /root/nltk_data...\n",
            "[nltk_data]    |   Unzipping corpora/movie_reviews.zip.\n",
            "[nltk_data]    | Downloading package names to /root/nltk_data...\n",
            "[nltk_data]    |   Unzipping corpora/names.zip.\n",
            "[nltk_data]    | Downloading package shakespeare to /root/nltk_data...\n",
            "[nltk_data]    |   Unzipping corpora/shakespeare.zip.\n",
            "[nltk_data]    | Downloading package stopwords to /root/nltk_data...\n",
            "[nltk_data]    |   Unzipping corpora/stopwords.zip.\n",
            "[nltk_data]    | Downloading package treebank to /root/nltk_data...\n",
            "[nltk_data]    |   Unzipping corpora/treebank.zip.\n",
            "[nltk_data]    | Downloading package twitter_samples to\n",
            "[nltk_data]    |     /root/nltk_data...\n",
            "[nltk_data]    |   Unzipping corpora/twitter_samples.zip.\n",
            "[nltk_data]    | Downloading package omw to /root/nltk_data...\n",
            "[nltk_data]    |   Unzipping corpora/omw.zip.\n",
            "[nltk_data]    | Downloading package omw-1.4 to /root/nltk_data...\n",
            "[nltk_data]    |   Unzipping corpora/omw-1.4.zip.\n",
            "[nltk_data]    | Downloading package wordnet to /root/nltk_data...\n",
            "[nltk_data]    |   Unzipping corpora/wordnet.zip.\n",
            "[nltk_data]    | Downloading package wordnet2021 to /root/nltk_data...\n",
            "[nltk_data]    |   Unzipping corpora/wordnet2021.zip.\n",
            "[nltk_data]    | Downloading package wordnet31 to /root/nltk_data...\n",
            "[nltk_data]    |   Unzipping corpora/wordnet31.zip.\n",
            "[nltk_data]    | Downloading package wordnet_ic to /root/nltk_data...\n",
            "[nltk_data]    |   Unzipping corpora/wordnet_ic.zip.\n",
            "[nltk_data]    | Downloading package words to /root/nltk_data...\n",
            "[nltk_data]    |   Unzipping corpora/words.zip.\n",
            "[nltk_data]    | Downloading package maxent_ne_chunker to\n",
            "[nltk_data]    |     /root/nltk_data...\n",
            "[nltk_data]    |   Unzipping chunkers/maxent_ne_chunker.zip.\n",
            "[nltk_data]    | Downloading package punkt to /root/nltk_data...\n",
            "[nltk_data]    |   Unzipping tokenizers/punkt.zip.\n",
            "[nltk_data]    | Downloading package snowball_data to\n",
            "[nltk_data]    |     /root/nltk_data...\n",
            "[nltk_data]    | Downloading package averaged_perceptron_tagger to\n",
            "[nltk_data]    |     /root/nltk_data...\n",
            "[nltk_data]    |   Unzipping taggers/averaged_perceptron_tagger.zip.\n",
            "[nltk_data]    | \n",
            "[nltk_data]  Done downloading collection popular\n"
          ]
        },
        {
          "output_type": "execute_result",
          "data": {
            "text/plain": [
              "True"
            ]
          },
          "metadata": {},
          "execution_count": 1
        }
      ],
      "source": [
        "import nltk\n",
        "nltk.download('popular')"
      ]
    },
    {
      "cell_type": "code",
      "source": [
        "from nltk.corpus import stopwords\n",
        "from nltk.stem import WordNetLemmatizer"
      ],
      "metadata": {
        "id": "giDrXlJKd0Zo"
      },
      "id": "giDrXlJKd0Zo",
      "execution_count": 2,
      "outputs": []
    },
    {
      "cell_type": "code",
      "source": [
        "paragraph = \"Most of the people of our country are farmers, workers, and day laborers who live below the poverty line. But the price of essential commodities is soaring higher and higher. It has now become impossible for them to make both ends meet. It has severely hit the day laborers, the lower and middle-class families, and the salaried class too. The prices of rice, vegetables, clothes, mustard oil, medicine, and other essential commodities are also increasing by leaps and bounds. In most cases, hoarding and black marketing are responsible for such a situation. All these have made the life of the common man miserable. The government should set up more and more fair price distribution channels for selling essential commodities. The Consumers’ Forum should also be more active to check such unreasonable hikes.\""
      ],
      "metadata": {
        "id": "x9Vl_8PqeT3x"
      },
      "id": "x9Vl_8PqeT3x",
      "execution_count": 19,
      "outputs": []
    },
    {
      "cell_type": "code",
      "source": [
        "paragraph"
      ],
      "metadata": {
        "id": "kIpMNrvSeRup",
        "outputId": "4af25f01-6f0d-4dc4-b979-26f53711f04c",
        "colab": {
          "base_uri": "https://localhost:8080/",
          "height": 89
        }
      },
      "id": "kIpMNrvSeRup",
      "execution_count": 20,
      "outputs": [
        {
          "output_type": "execute_result",
          "data": {
            "application/vnd.google.colaboratory.intrinsic+json": {
              "type": "string"
            },
            "text/plain": [
              "'Most of the people of our country are farmers, workers, and day laborers who live below the poverty line. But the price of essential commodities is soaring higher and higher. It has now become impossible for them to make both ends meet. It has severely hit the day laborers, the lower and middle-class families, and the salaried class too. The prices of rice, vegetables, clothes, mustard oil, medicine, and other essential commodities are also increasing by leaps and bounds. In most cases, hoarding and black marketing are responsible for such a situation. All these have made the life of the common man miserable. The government should set up more and more fair price distribution channels for selling essential commodities. The Consumers’ Forum should also be more active to check such unreasonable hikes.'"
            ]
          },
          "metadata": {},
          "execution_count": 20
        }
      ]
    },
    {
      "cell_type": "code",
      "source": [
        "import re\n",
        "paragraph = paragraph.lower()"
      ],
      "metadata": {
        "id": "7XIhuV8ZfH4E"
      },
      "id": "7XIhuV8ZfH4E",
      "execution_count": 21,
      "outputs": []
    },
    {
      "cell_type": "code",
      "source": [
        "paragraph"
      ],
      "metadata": {
        "id": "UhR66tYDft97",
        "outputId": "66a99ff3-17ac-4340-fcb4-fccae050c610",
        "colab": {
          "base_uri": "https://localhost:8080/",
          "height": 89
        }
      },
      "id": "UhR66tYDft97",
      "execution_count": 22,
      "outputs": [
        {
          "output_type": "execute_result",
          "data": {
            "application/vnd.google.colaboratory.intrinsic+json": {
              "type": "string"
            },
            "text/plain": [
              "'most of the people of our country are farmers, workers, and day laborers who live below the poverty line. but the price of essential commodities is soaring higher and higher. it has now become impossible for them to make both ends meet. it has severely hit the day laborers, the lower and middle-class families, and the salaried class too. the prices of rice, vegetables, clothes, mustard oil, medicine, and other essential commodities are also increasing by leaps and bounds. in most cases, hoarding and black marketing are responsible for such a situation. all these have made the life of the common man miserable. the government should set up more and more fair price distribution channels for selling essential commodities. the consumers’ forum should also be more active to check such unreasonable hikes.'"
            ]
          },
          "metadata": {},
          "execution_count": 22
        }
      ]
    },
    {
      "cell_type": "code",
      "source": [
        "paragraph = re.sub('[^a-zA-Z]', ' ', paragraph)"
      ],
      "metadata": {
        "id": "GnT8EfbjgFA_"
      },
      "id": "GnT8EfbjgFA_",
      "execution_count": 23,
      "outputs": []
    },
    {
      "cell_type": "code",
      "source": [
        "paragraph"
      ],
      "metadata": {
        "id": "vN3YhGvzg6He",
        "outputId": "07908434-5a53-49fc-d334-69d83d1e1024",
        "colab": {
          "base_uri": "https://localhost:8080/",
          "height": 89
        }
      },
      "id": "vN3YhGvzg6He",
      "execution_count": 24,
      "outputs": [
        {
          "output_type": "execute_result",
          "data": {
            "application/vnd.google.colaboratory.intrinsic+json": {
              "type": "string"
            },
            "text/plain": [
              "'most of the people of our country are farmers  workers  and day laborers who live below the poverty line  but the price of essential commodities is soaring higher and higher  it has now become impossible for them to make both ends meet  it has severely hit the day laborers  the lower and middle class families  and the salaried class too  the prices of rice  vegetables  clothes  mustard oil  medicine  and other essential commodities are also increasing by leaps and bounds  in most cases  hoarding and black marketing are responsible for such a situation  all these have made the life of the common man miserable  the government should set up more and more fair price distribution channels for selling essential commodities  the consumers  forum should also be more active to check such unreasonable hikes '"
            ]
          },
          "metadata": {},
          "execution_count": 24
        }
      ]
    },
    {
      "cell_type": "code",
      "source": [
        "paragraph.split()"
      ],
      "metadata": {
        "id": "Pudp40pZg579",
        "outputId": "03c80ddf-4cac-4b42-d6ad-c31d60ef69c5",
        "colab": {
          "base_uri": "https://localhost:8080/"
        }
      },
      "id": "Pudp40pZg579",
      "execution_count": 25,
      "outputs": [
        {
          "output_type": "execute_result",
          "data": {
            "text/plain": [
              "['most',\n",
              " 'of',\n",
              " 'the',\n",
              " 'people',\n",
              " 'of',\n",
              " 'our',\n",
              " 'country',\n",
              " 'are',\n",
              " 'farmers',\n",
              " 'workers',\n",
              " 'and',\n",
              " 'day',\n",
              " 'laborers',\n",
              " 'who',\n",
              " 'live',\n",
              " 'below',\n",
              " 'the',\n",
              " 'poverty',\n",
              " 'line',\n",
              " 'but',\n",
              " 'the',\n",
              " 'price',\n",
              " 'of',\n",
              " 'essential',\n",
              " 'commodities',\n",
              " 'is',\n",
              " 'soaring',\n",
              " 'higher',\n",
              " 'and',\n",
              " 'higher',\n",
              " 'it',\n",
              " 'has',\n",
              " 'now',\n",
              " 'become',\n",
              " 'impossible',\n",
              " 'for',\n",
              " 'them',\n",
              " 'to',\n",
              " 'make',\n",
              " 'both',\n",
              " 'ends',\n",
              " 'meet',\n",
              " 'it',\n",
              " 'has',\n",
              " 'severely',\n",
              " 'hit',\n",
              " 'the',\n",
              " 'day',\n",
              " 'laborers',\n",
              " 'the',\n",
              " 'lower',\n",
              " 'and',\n",
              " 'middle',\n",
              " 'class',\n",
              " 'families',\n",
              " 'and',\n",
              " 'the',\n",
              " 'salaried',\n",
              " 'class',\n",
              " 'too',\n",
              " 'the',\n",
              " 'prices',\n",
              " 'of',\n",
              " 'rice',\n",
              " 'vegetables',\n",
              " 'clothes',\n",
              " 'mustard',\n",
              " 'oil',\n",
              " 'medicine',\n",
              " 'and',\n",
              " 'other',\n",
              " 'essential',\n",
              " 'commodities',\n",
              " 'are',\n",
              " 'also',\n",
              " 'increasing',\n",
              " 'by',\n",
              " 'leaps',\n",
              " 'and',\n",
              " 'bounds',\n",
              " 'in',\n",
              " 'most',\n",
              " 'cases',\n",
              " 'hoarding',\n",
              " 'and',\n",
              " 'black',\n",
              " 'marketing',\n",
              " 'are',\n",
              " 'responsible',\n",
              " 'for',\n",
              " 'such',\n",
              " 'a',\n",
              " 'situation',\n",
              " 'all',\n",
              " 'these',\n",
              " 'have',\n",
              " 'made',\n",
              " 'the',\n",
              " 'life',\n",
              " 'of',\n",
              " 'the',\n",
              " 'common',\n",
              " 'man',\n",
              " 'miserable',\n",
              " 'the',\n",
              " 'government',\n",
              " 'should',\n",
              " 'set',\n",
              " 'up',\n",
              " 'more',\n",
              " 'and',\n",
              " 'more',\n",
              " 'fair',\n",
              " 'price',\n",
              " 'distribution',\n",
              " 'channels',\n",
              " 'for',\n",
              " 'selling',\n",
              " 'essential',\n",
              " 'commodities',\n",
              " 'the',\n",
              " 'consumers',\n",
              " 'forum',\n",
              " 'should',\n",
              " 'also',\n",
              " 'be',\n",
              " 'more',\n",
              " 'active',\n",
              " 'to',\n",
              " 'check',\n",
              " 'such',\n",
              " 'unreasonable',\n",
              " 'hikes']"
            ]
          },
          "metadata": {},
          "execution_count": 25
        }
      ]
    },
    {
      "cell_type": "markdown",
      "source": [
        "The above operations were to understand the various preprocessing steps. Now we will bring the paragraph again and start from scratch."
      ],
      "metadata": {
        "id": "5Z0rr3BJhfGn"
      },
      "id": "5Z0rr3BJhfGn"
    },
    {
      "cell_type": "code",
      "source": [
        "paragraph = \"Most of the people of our country are farmers, workers, and day laborers who live below the poverty line. But the price of essential commodities is soaring higher and higher. It has now become impossible for them to make both ends meet. It has severely hit the day laborers, the lower and middle-class families, and the salaried class too. The prices of rice, vegetables, clothes, mustard oil, medicine, and other essential commodities are also increasing by leaps and bounds. In most cases, hoarding and black marketing are responsible for such a situation. All these have made the life of the common man miserable. The government should set up more and more fair price distribution channels for selling essential commodities. The Consumers’ Forum should also be more active to check such unreasonable hikes.\""
      ],
      "metadata": {
        "id": "qBnQ4j9-hemV"
      },
      "id": "qBnQ4j9-hemV",
      "execution_count": 26,
      "outputs": []
    },
    {
      "cell_type": "code",
      "source": [
        "paragraph"
      ],
      "metadata": {
        "id": "wJ3RkF1Xhv68",
        "outputId": "bc774db4-5220-45bc-ec56-260e2027aa51",
        "colab": {
          "base_uri": "https://localhost:8080/",
          "height": 89
        }
      },
      "id": "wJ3RkF1Xhv68",
      "execution_count": 27,
      "outputs": [
        {
          "output_type": "execute_result",
          "data": {
            "application/vnd.google.colaboratory.intrinsic+json": {
              "type": "string"
            },
            "text/plain": [
              "'Most of the people of our country are farmers, workers, and day laborers who live below the poverty line. But the price of essential commodities is soaring higher and higher. It has now become impossible for them to make both ends meet. It has severely hit the day laborers, the lower and middle-class families, and the salaried class too. The prices of rice, vegetables, clothes, mustard oil, medicine, and other essential commodities are also increasing by leaps and bounds. In most cases, hoarding and black marketing are responsible for such a situation. All these have made the life of the common man miserable. The government should set up more and more fair price distribution channels for selling essential commodities. The Consumers’ Forum should also be more active to check such unreasonable hikes.'"
            ]
          },
          "metadata": {},
          "execution_count": 27
        }
      ]
    },
    {
      "cell_type": "code",
      "source": [
        "sentences = nltk.sent_tokenize(paragraph)"
      ],
      "metadata": {
        "id": "j93_Hlauhx_d"
      },
      "id": "j93_Hlauhx_d",
      "execution_count": 29,
      "outputs": []
    },
    {
      "cell_type": "code",
      "source": [
        "sentences"
      ],
      "metadata": {
        "id": "sItsl6SDi3W6",
        "outputId": "70e30bbb-322c-4950-8d60-380a080a5fab",
        "colab": {
          "base_uri": "https://localhost:8080/"
        }
      },
      "id": "sItsl6SDi3W6",
      "execution_count": 30,
      "outputs": [
        {
          "output_type": "execute_result",
          "data": {
            "text/plain": [
              "['Most of the people of our country are farmers, workers, and day laborers who live below the poverty line.',\n",
              " 'But the price of essential commodities is soaring higher and higher.',\n",
              " 'It has now become impossible for them to make both ends meet.',\n",
              " 'It has severely hit the day laborers, the lower and middle-class families, and the salaried class too.',\n",
              " 'The prices of rice, vegetables, clothes, mustard oil, medicine, and other essential commodities are also increasing by leaps and bounds.',\n",
              " 'In most cases, hoarding and black marketing are responsible for such a situation.',\n",
              " 'All these have made the life of the common man miserable.',\n",
              " 'The government should set up more and more fair price distribution channels for selling essential commodities.',\n",
              " 'The Consumers’ Forum should also be more active to check such unreasonable hikes.']"
            ]
          },
          "metadata": {},
          "execution_count": 30
        }
      ]
    },
    {
      "cell_type": "code",
      "source": [
        "basket = []\n",
        "for i in range(len(sentences)):\n",
        "  x = re.sub('[^a-zA-Z]', ' ', sentences[i])\n",
        "  x = x.lower()\n",
        "  x = x.split()\n",
        "  x = [WordNetLemmatizer().lemmatize(y) for y in x if y not in stopwords.words('english')]\n",
        "  x = ' '.join(x)\n",
        "  basket.append(x) "
      ],
      "metadata": {
        "id": "wWSOhD7Ii5P-"
      },
      "id": "wWSOhD7Ii5P-",
      "execution_count": 53,
      "outputs": []
    },
    {
      "cell_type": "code",
      "source": [
        "basket"
      ],
      "metadata": {
        "id": "Pvcr4cjBpaPz",
        "outputId": "c8db8bf4-965c-44cf-dd21-fedd212a246f",
        "colab": {
          "base_uri": "https://localhost:8080/"
        }
      },
      "id": "Pvcr4cjBpaPz",
      "execution_count": 54,
      "outputs": [
        {
          "output_type": "execute_result",
          "data": {
            "text/plain": [
              "['people country farmer worker day laborer live poverty line',\n",
              " 'price essential commodity soaring higher higher',\n",
              " 'become impossible make end meet',\n",
              " 'severely hit day laborer lower middle class family salaried class',\n",
              " 'price rice vegetable clothes mustard oil medicine essential commodity also increasing leap bound',\n",
              " 'case hoarding black marketing responsible situation',\n",
              " 'made life common man miserable',\n",
              " 'government set fair price distribution channel selling essential commodity',\n",
              " 'consumer forum also active check unreasonable hike']"
            ]
          },
          "metadata": {},
          "execution_count": 54
        }
      ]
    },
    {
      "cell_type": "code",
      "source": [
        "from sklearn.feature_extraction.text import CountVectorizer\n",
        "cv = CountVectorizer()\n",
        "bow = cv.fit_transform(basket).toarray()"
      ],
      "metadata": {
        "id": "qSOI78Onq5zx"
      },
      "id": "qSOI78Onq5zx",
      "execution_count": 57,
      "outputs": []
    },
    {
      "cell_type": "code",
      "source": [
        "bow"
      ],
      "metadata": {
        "id": "w29hJ6QLsa4N",
        "outputId": "42a83cf4-8f26-4b27-97ee-298f9abb7323",
        "colab": {
          "base_uri": "https://localhost:8080/"
        }
      },
      "id": "w29hJ6QLsa4N",
      "execution_count": 58,
      "outputs": [
        {
          "output_type": "execute_result",
          "data": {
            "text/plain": [
              "array([[0, 0, 0, 0, 0, 0, 0, 0, 0, 0, 0, 0, 0, 1, 1, 0, 0, 0, 0, 0, 1, 0,\n",
              "        0, 0, 0, 0, 0, 0, 0, 1, 0, 0, 1, 1, 0, 0, 0, 0, 0, 0, 0, 0, 0, 0,\n",
              "        0, 1, 1, 0, 0, 0, 0, 0, 0, 0, 0, 0, 0, 0, 1],\n",
              "       [0, 0, 0, 0, 0, 0, 0, 0, 0, 0, 1, 0, 0, 0, 0, 0, 0, 1, 0, 0, 0, 0,\n",
              "        0, 2, 0, 0, 0, 0, 0, 0, 0, 0, 0, 0, 0, 0, 0, 0, 0, 0, 0, 0, 0, 0,\n",
              "        0, 0, 0, 1, 0, 0, 0, 0, 0, 0, 0, 1, 0, 0, 0],\n",
              "       [0, 0, 1, 0, 0, 0, 0, 0, 0, 0, 0, 0, 0, 0, 0, 0, 1, 0, 0, 0, 0, 0,\n",
              "        0, 0, 0, 0, 0, 1, 0, 0, 0, 0, 0, 0, 0, 0, 1, 0, 0, 0, 1, 0, 0, 0,\n",
              "        0, 0, 0, 0, 0, 0, 0, 0, 0, 0, 0, 0, 0, 0, 0],\n",
              "       [0, 0, 0, 0, 0, 0, 0, 0, 2, 0, 0, 0, 0, 0, 1, 0, 0, 0, 0, 1, 0, 0,\n",
              "        0, 0, 0, 1, 0, 0, 0, 1, 0, 0, 0, 0, 1, 0, 0, 0, 0, 0, 0, 1, 0, 0,\n",
              "        0, 0, 0, 0, 0, 0, 1, 0, 0, 1, 0, 0, 0, 0, 0],\n",
              "       [0, 1, 0, 0, 1, 0, 0, 0, 0, 1, 1, 0, 0, 0, 0, 0, 0, 1, 0, 0, 0, 0,\n",
              "        0, 0, 0, 0, 0, 0, 1, 0, 1, 0, 0, 0, 0, 0, 0, 0, 0, 1, 0, 0, 0, 1,\n",
              "        1, 0, 0, 1, 0, 1, 0, 0, 0, 0, 0, 0, 0, 1, 0],\n",
              "       [0, 0, 0, 1, 0, 1, 0, 0, 0, 0, 0, 0, 0, 0, 0, 0, 0, 0, 0, 0, 0, 0,\n",
              "        0, 0, 0, 0, 1, 0, 0, 0, 0, 0, 0, 0, 0, 0, 0, 0, 1, 0, 0, 0, 0, 0,\n",
              "        0, 0, 0, 0, 1, 0, 0, 0, 0, 0, 1, 0, 0, 0, 0],\n",
              "       [0, 0, 0, 0, 0, 0, 0, 0, 0, 0, 0, 1, 0, 0, 0, 0, 0, 0, 0, 0, 0, 0,\n",
              "        0, 0, 0, 0, 0, 0, 0, 0, 0, 1, 0, 0, 0, 1, 0, 1, 0, 0, 0, 0, 1, 0,\n",
              "        0, 0, 0, 0, 0, 0, 0, 0, 0, 0, 0, 0, 0, 0, 0],\n",
              "       [0, 0, 0, 0, 0, 0, 1, 0, 0, 0, 1, 0, 0, 0, 0, 1, 0, 1, 1, 0, 0, 0,\n",
              "        1, 0, 0, 0, 0, 0, 0, 0, 0, 0, 0, 0, 0, 0, 0, 0, 0, 0, 0, 0, 0, 0,\n",
              "        0, 0, 0, 1, 0, 0, 0, 1, 1, 0, 0, 0, 0, 0, 0],\n",
              "       [1, 1, 0, 0, 0, 0, 0, 1, 0, 0, 0, 0, 1, 0, 0, 0, 0, 0, 0, 0, 0, 1,\n",
              "        0, 0, 1, 0, 0, 0, 0, 0, 0, 0, 0, 0, 0, 0, 0, 0, 0, 0, 0, 0, 0, 0,\n",
              "        0, 0, 0, 0, 0, 0, 0, 0, 0, 0, 0, 0, 1, 0, 0]])"
            ]
          },
          "metadata": {},
          "execution_count": 58
        }
      ]
    }
  ],
  "metadata": {
    "kernelspec": {
      "display_name": "Python 3 (ipykernel)",
      "language": "python",
      "name": "python3"
    },
    "language_info": {
      "codemirror_mode": {
        "name": "ipython",
        "version": 3
      },
      "file_extension": ".py",
      "mimetype": "text/x-python",
      "name": "python",
      "nbconvert_exporter": "python",
      "pygments_lexer": "ipython3",
      "version": "3.8.11"
    },
    "colab": {
      "name": "Bag of Words.ipynb",
      "provenance": []
    }
  },
  "nbformat": 4,
  "nbformat_minor": 5
}