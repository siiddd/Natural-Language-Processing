{
  "cells": [
    {
      "cell_type": "code",
      "execution_count": 10,
      "id": "9af1a7ef",
      "metadata": {
        "id": "9af1a7ef",
        "outputId": "551653bd-b150-4128-87d6-337673f6ec38",
        "colab": {
          "base_uri": "https://localhost:8080/"
        }
      },
      "outputs": [
        {
          "output_type": "stream",
          "name": "stdout",
          "text": [
            "[nltk_data] Downloading collection 'popular'\n",
            "[nltk_data]    | \n",
            "[nltk_data]    | Downloading package cmudict to /root/nltk_data...\n",
            "[nltk_data]    |   Package cmudict is already up-to-date!\n",
            "[nltk_data]    | Downloading package gazetteers to /root/nltk_data...\n",
            "[nltk_data]    |   Package gazetteers is already up-to-date!\n",
            "[nltk_data]    | Downloading package genesis to /root/nltk_data...\n",
            "[nltk_data]    |   Package genesis is already up-to-date!\n",
            "[nltk_data]    | Downloading package gutenberg to /root/nltk_data...\n",
            "[nltk_data]    |   Package gutenberg is already up-to-date!\n",
            "[nltk_data]    | Downloading package inaugural to /root/nltk_data...\n",
            "[nltk_data]    |   Package inaugural is already up-to-date!\n",
            "[nltk_data]    | Downloading package movie_reviews to\n",
            "[nltk_data]    |     /root/nltk_data...\n",
            "[nltk_data]    |   Unzipping corpora/movie_reviews.zip.\n",
            "[nltk_data]    | Downloading package names to /root/nltk_data...\n",
            "[nltk_data]    |   Unzipping corpora/names.zip.\n",
            "[nltk_data]    | Downloading package shakespeare to /root/nltk_data...\n",
            "[nltk_data]    |   Unzipping corpora/shakespeare.zip.\n",
            "[nltk_data]    | Downloading package stopwords to /root/nltk_data...\n",
            "[nltk_data]    |   Unzipping corpora/stopwords.zip.\n",
            "[nltk_data]    | Downloading package treebank to /root/nltk_data...\n",
            "[nltk_data]    |   Unzipping corpora/treebank.zip.\n",
            "[nltk_data]    | Downloading package twitter_samples to\n",
            "[nltk_data]    |     /root/nltk_data...\n",
            "[nltk_data]    |   Unzipping corpora/twitter_samples.zip.\n",
            "[nltk_data]    | Downloading package omw to /root/nltk_data...\n",
            "[nltk_data]    |   Unzipping corpora/omw.zip.\n",
            "[nltk_data]    | Downloading package omw-1.4 to /root/nltk_data...\n",
            "[nltk_data]    |   Unzipping corpora/omw-1.4.zip.\n",
            "[nltk_data]    | Downloading package wordnet to /root/nltk_data...\n",
            "[nltk_data]    |   Unzipping corpora/wordnet.zip.\n",
            "[nltk_data]    | Downloading package wordnet2021 to /root/nltk_data...\n",
            "[nltk_data]    |   Unzipping corpora/wordnet2021.zip.\n",
            "[nltk_data]    | Downloading package wordnet31 to /root/nltk_data...\n",
            "[nltk_data]    |   Unzipping corpora/wordnet31.zip.\n",
            "[nltk_data]    | Downloading package wordnet_ic to /root/nltk_data...\n",
            "[nltk_data]    |   Unzipping corpora/wordnet_ic.zip.\n",
            "[nltk_data]    | Downloading package words to /root/nltk_data...\n",
            "[nltk_data]    |   Unzipping corpora/words.zip.\n",
            "[nltk_data]    | Downloading package maxent_ne_chunker to\n",
            "[nltk_data]    |     /root/nltk_data...\n",
            "[nltk_data]    |   Unzipping chunkers/maxent_ne_chunker.zip.\n",
            "[nltk_data]    | Downloading package punkt to /root/nltk_data...\n",
            "[nltk_data]    |   Unzipping tokenizers/punkt.zip.\n",
            "[nltk_data]    | Downloading package snowball_data to\n",
            "[nltk_data]    |     /root/nltk_data...\n",
            "[nltk_data]    | Downloading package averaged_perceptron_tagger to\n",
            "[nltk_data]    |     /root/nltk_data...\n",
            "[nltk_data]    |   Package averaged_perceptron_tagger is already up-\n",
            "[nltk_data]    |       to-date!\n",
            "[nltk_data]    | \n",
            "[nltk_data]  Done downloading collection popular\n"
          ]
        },
        {
          "output_type": "execute_result",
          "data": {
            "text/plain": [
              "True"
            ]
          },
          "metadata": {},
          "execution_count": 10
        }
      ],
      "source": [
        "import nltk\n",
        "nltk.download('popular')"
      ]
    },
    {
      "cell_type": "code",
      "source": [
        "from nltk.corpus import stopwords"
      ],
      "metadata": {
        "id": "QuPJA0vWpx5V"
      },
      "id": "QuPJA0vWpx5V",
      "execution_count": 2,
      "outputs": []
    },
    {
      "cell_type": "code",
      "source": [
        "from nltk.stem import PorterStemmer"
      ],
      "metadata": {
        "id": "9GYtxa4Ap11B"
      },
      "id": "9GYtxa4Ap11B",
      "execution_count": 3,
      "outputs": []
    },
    {
      "cell_type": "code",
      "source": [
        "paragraph = \"The Dowry system is evil in society. It has reduced the sacred affair of marriage to a business deal. Brides are treated as a marketable commodity. The parents of the brides are often put under inhuman pressure for a handsome dowry. Sometimes they become pauper to get their daughters married. In many cases, young brides are ruthlessly tortured or pushed to suicide. To eradicate this social evil, a total change in the outlook of society is a must. The woman has to be considered as an equal partner of the man. Widespread education and employment and their rights of property can bring about the right remedy. Legal prohibition of dowry is not enough. Strong social disapproval of dowry is the only guarantee against this evil. Our youth should come forward to generate public awareness against this shameful custom.\""
      ],
      "metadata": {
        "id": "2ahpgbVSqAPi"
      },
      "id": "2ahpgbVSqAPi",
      "execution_count": 6,
      "outputs": []
    },
    {
      "cell_type": "code",
      "source": [
        "paragraph"
      ],
      "metadata": {
        "id": "YLnixJPxrDqL",
        "outputId": "c94712d8-54cc-49cc-f3fd-efa996f7a9f9",
        "colab": {
          "base_uri": "https://localhost:8080/",
          "height": 89
        }
      },
      "id": "YLnixJPxrDqL",
      "execution_count": 7,
      "outputs": [
        {
          "output_type": "execute_result",
          "data": {
            "application/vnd.google.colaboratory.intrinsic+json": {
              "type": "string"
            },
            "text/plain": [
              "'The Dowry system is evil in society. It has reduced the sacred affair of marriage to a business deal. Brides are treated as a marketable commodity. The parents of the brides are often put under inhuman pressure for a handsome dowry. Sometimes they become pauper to get their daughters married. In many cases, young brides are ruthlessly tortured or pushed to suicide. To eradicate this social evil, a total change in the outlook of society is a must. The woman has to be considered as an equal partner of the man. Widespread education and employment and their rights of property can bring about the right remedy. Legal prohibition of dowry is not enough. Strong social disapproval of dowry is the only guarantee against this evil. Our youth should come forward to generate public awareness against this shameful custom.'"
            ]
          },
          "metadata": {},
          "execution_count": 7
        }
      ]
    },
    {
      "cell_type": "code",
      "source": [
        "sentences = nltk.sent_tokenize(paragraph)\n",
        "sentences"
      ],
      "metadata": {
        "id": "Oov-c5KPrZ9f",
        "outputId": "7e672c57-8536-4a5a-cbe4-000dc99f16d9",
        "colab": {
          "base_uri": "https://localhost:8080/"
        }
      },
      "id": "Oov-c5KPrZ9f",
      "execution_count": 39,
      "outputs": [
        {
          "output_type": "execute_result",
          "data": {
            "text/plain": [
              "['The Dowry system is evil in society.',\n",
              " 'It has reduced the sacred affair of marriage to a business deal.',\n",
              " 'Brides are treated as a marketable commodity.',\n",
              " 'The parents of the brides are often put under inhuman pressure for a handsome dowry.',\n",
              " 'Sometimes they become pauper to get their daughters married.',\n",
              " 'In many cases, young brides are ruthlessly tortured or pushed to suicide.',\n",
              " 'To eradicate this social evil, a total change in the outlook of society is a must.',\n",
              " 'The woman has to be considered as an equal partner of the man.',\n",
              " 'Widespread education and employment and their rights of property can bring about the right remedy.',\n",
              " 'Legal prohibition of dowry is not enough.',\n",
              " 'Strong social disapproval of dowry is the only guarantee against this evil.',\n",
              " 'Our youth should come forward to generate public awareness against this shameful custom.']"
            ]
          },
          "metadata": {},
          "execution_count": 39
        }
      ]
    },
    {
      "cell_type": "code",
      "source": [
        "words = nltk.word_tokenize(paragraph)\n",
        "words"
      ],
      "metadata": {
        "id": "IA_fBVJLthDt",
        "outputId": "1a7e1107-b8d7-4a8d-a8c0-40f62304cf47",
        "colab": {
          "base_uri": "https://localhost:8080/"
        }
      },
      "id": "IA_fBVJLthDt",
      "execution_count": 40,
      "outputs": [
        {
          "output_type": "execute_result",
          "data": {
            "text/plain": [
              "['The',\n",
              " 'Dowry',\n",
              " 'system',\n",
              " 'is',\n",
              " 'evil',\n",
              " 'in',\n",
              " 'society',\n",
              " '.',\n",
              " 'It',\n",
              " 'has',\n",
              " 'reduced',\n",
              " 'the',\n",
              " 'sacred',\n",
              " 'affair',\n",
              " 'of',\n",
              " 'marriage',\n",
              " 'to',\n",
              " 'a',\n",
              " 'business',\n",
              " 'deal',\n",
              " '.',\n",
              " 'Brides',\n",
              " 'are',\n",
              " 'treated',\n",
              " 'as',\n",
              " 'a',\n",
              " 'marketable',\n",
              " 'commodity',\n",
              " '.',\n",
              " 'The',\n",
              " 'parents',\n",
              " 'of',\n",
              " 'the',\n",
              " 'brides',\n",
              " 'are',\n",
              " 'often',\n",
              " 'put',\n",
              " 'under',\n",
              " 'inhuman',\n",
              " 'pressure',\n",
              " 'for',\n",
              " 'a',\n",
              " 'handsome',\n",
              " 'dowry',\n",
              " '.',\n",
              " 'Sometimes',\n",
              " 'they',\n",
              " 'become',\n",
              " 'pauper',\n",
              " 'to',\n",
              " 'get',\n",
              " 'their',\n",
              " 'daughters',\n",
              " 'married',\n",
              " '.',\n",
              " 'In',\n",
              " 'many',\n",
              " 'cases',\n",
              " ',',\n",
              " 'young',\n",
              " 'brides',\n",
              " 'are',\n",
              " 'ruthlessly',\n",
              " 'tortured',\n",
              " 'or',\n",
              " 'pushed',\n",
              " 'to',\n",
              " 'suicide',\n",
              " '.',\n",
              " 'To',\n",
              " 'eradicate',\n",
              " 'this',\n",
              " 'social',\n",
              " 'evil',\n",
              " ',',\n",
              " 'a',\n",
              " 'total',\n",
              " 'change',\n",
              " 'in',\n",
              " 'the',\n",
              " 'outlook',\n",
              " 'of',\n",
              " 'society',\n",
              " 'is',\n",
              " 'a',\n",
              " 'must',\n",
              " '.',\n",
              " 'The',\n",
              " 'woman',\n",
              " 'has',\n",
              " 'to',\n",
              " 'be',\n",
              " 'considered',\n",
              " 'as',\n",
              " 'an',\n",
              " 'equal',\n",
              " 'partner',\n",
              " 'of',\n",
              " 'the',\n",
              " 'man',\n",
              " '.',\n",
              " 'Widespread',\n",
              " 'education',\n",
              " 'and',\n",
              " 'employment',\n",
              " 'and',\n",
              " 'their',\n",
              " 'rights',\n",
              " 'of',\n",
              " 'property',\n",
              " 'can',\n",
              " 'bring',\n",
              " 'about',\n",
              " 'the',\n",
              " 'right',\n",
              " 'remedy',\n",
              " '.',\n",
              " 'Legal',\n",
              " 'prohibition',\n",
              " 'of',\n",
              " 'dowry',\n",
              " 'is',\n",
              " 'not',\n",
              " 'enough',\n",
              " '.',\n",
              " 'Strong',\n",
              " 'social',\n",
              " 'disapproval',\n",
              " 'of',\n",
              " 'dowry',\n",
              " 'is',\n",
              " 'the',\n",
              " 'only',\n",
              " 'guarantee',\n",
              " 'against',\n",
              " 'this',\n",
              " 'evil',\n",
              " '.',\n",
              " 'Our',\n",
              " 'youth',\n",
              " 'should',\n",
              " 'come',\n",
              " 'forward',\n",
              " 'to',\n",
              " 'generate',\n",
              " 'public',\n",
              " 'awareness',\n",
              " 'against',\n",
              " 'this',\n",
              " 'shameful',\n",
              " 'custom',\n",
              " '.']"
            ]
          },
          "metadata": {},
          "execution_count": 40
        }
      ]
    },
    {
      "cell_type": "code",
      "source": [
        "stopwords.words('english')"
      ],
      "metadata": {
        "id": "dY82FK7UyER8",
        "outputId": "7bd855ce-8f85-4ac7-c2ee-ff8cf2f8a818",
        "colab": {
          "base_uri": "https://localhost:8080/"
        }
      },
      "id": "dY82FK7UyER8",
      "execution_count": 41,
      "outputs": [
        {
          "output_type": "execute_result",
          "data": {
            "text/plain": [
              "['i',\n",
              " 'me',\n",
              " 'my',\n",
              " 'myself',\n",
              " 'we',\n",
              " 'our',\n",
              " 'ours',\n",
              " 'ourselves',\n",
              " 'you',\n",
              " \"you're\",\n",
              " \"you've\",\n",
              " \"you'll\",\n",
              " \"you'd\",\n",
              " 'your',\n",
              " 'yours',\n",
              " 'yourself',\n",
              " 'yourselves',\n",
              " 'he',\n",
              " 'him',\n",
              " 'his',\n",
              " 'himself',\n",
              " 'she',\n",
              " \"she's\",\n",
              " 'her',\n",
              " 'hers',\n",
              " 'herself',\n",
              " 'it',\n",
              " \"it's\",\n",
              " 'its',\n",
              " 'itself',\n",
              " 'they',\n",
              " 'them',\n",
              " 'their',\n",
              " 'theirs',\n",
              " 'themselves',\n",
              " 'what',\n",
              " 'which',\n",
              " 'who',\n",
              " 'whom',\n",
              " 'this',\n",
              " 'that',\n",
              " \"that'll\",\n",
              " 'these',\n",
              " 'those',\n",
              " 'am',\n",
              " 'is',\n",
              " 'are',\n",
              " 'was',\n",
              " 'were',\n",
              " 'be',\n",
              " 'been',\n",
              " 'being',\n",
              " 'have',\n",
              " 'has',\n",
              " 'had',\n",
              " 'having',\n",
              " 'do',\n",
              " 'does',\n",
              " 'did',\n",
              " 'doing',\n",
              " 'a',\n",
              " 'an',\n",
              " 'the',\n",
              " 'and',\n",
              " 'but',\n",
              " 'if',\n",
              " 'or',\n",
              " 'because',\n",
              " 'as',\n",
              " 'until',\n",
              " 'while',\n",
              " 'of',\n",
              " 'at',\n",
              " 'by',\n",
              " 'for',\n",
              " 'with',\n",
              " 'about',\n",
              " 'against',\n",
              " 'between',\n",
              " 'into',\n",
              " 'through',\n",
              " 'during',\n",
              " 'before',\n",
              " 'after',\n",
              " 'above',\n",
              " 'below',\n",
              " 'to',\n",
              " 'from',\n",
              " 'up',\n",
              " 'down',\n",
              " 'in',\n",
              " 'out',\n",
              " 'on',\n",
              " 'off',\n",
              " 'over',\n",
              " 'under',\n",
              " 'again',\n",
              " 'further',\n",
              " 'then',\n",
              " 'once',\n",
              " 'here',\n",
              " 'there',\n",
              " 'when',\n",
              " 'where',\n",
              " 'why',\n",
              " 'how',\n",
              " 'all',\n",
              " 'any',\n",
              " 'both',\n",
              " 'each',\n",
              " 'few',\n",
              " 'more',\n",
              " 'most',\n",
              " 'other',\n",
              " 'some',\n",
              " 'such',\n",
              " 'no',\n",
              " 'nor',\n",
              " 'not',\n",
              " 'only',\n",
              " 'own',\n",
              " 'same',\n",
              " 'so',\n",
              " 'than',\n",
              " 'too',\n",
              " 'very',\n",
              " 's',\n",
              " 't',\n",
              " 'can',\n",
              " 'will',\n",
              " 'just',\n",
              " 'don',\n",
              " \"don't\",\n",
              " 'should',\n",
              " \"should've\",\n",
              " 'now',\n",
              " 'd',\n",
              " 'll',\n",
              " 'm',\n",
              " 'o',\n",
              " 're',\n",
              " 've',\n",
              " 'y',\n",
              " 'ain',\n",
              " 'aren',\n",
              " \"aren't\",\n",
              " 'couldn',\n",
              " \"couldn't\",\n",
              " 'didn',\n",
              " \"didn't\",\n",
              " 'doesn',\n",
              " \"doesn't\",\n",
              " 'hadn',\n",
              " \"hadn't\",\n",
              " 'hasn',\n",
              " \"hasn't\",\n",
              " 'haven',\n",
              " \"haven't\",\n",
              " 'isn',\n",
              " \"isn't\",\n",
              " 'ma',\n",
              " 'mightn',\n",
              " \"mightn't\",\n",
              " 'mustn',\n",
              " \"mustn't\",\n",
              " 'needn',\n",
              " \"needn't\",\n",
              " 'shan',\n",
              " \"shan't\",\n",
              " 'shouldn',\n",
              " \"shouldn't\",\n",
              " 'wasn',\n",
              " \"wasn't\",\n",
              " 'weren',\n",
              " \"weren't\",\n",
              " 'won',\n",
              " \"won't\",\n",
              " 'wouldn',\n",
              " \"wouldn't\"]"
            ]
          },
          "metadata": {},
          "execution_count": 41
        }
      ]
    },
    {
      "cell_type": "code",
      "source": [
        "bag = []\n",
        "for i in range(len(sentences)):\n",
        "  words = nltk.word_tokenize(sentences[i])\n",
        "  bag = [PorterStemmer().stem(word) for word in words if word not in set(stopwords.words(\"english\"))]\n",
        "  sentences[i] = ' '.join(bag)"
      ],
      "metadata": {
        "id": "ZT-xxmd0yI8M"
      },
      "id": "ZT-xxmd0yI8M",
      "execution_count": 42,
      "outputs": []
    },
    {
      "cell_type": "code",
      "source": [
        "sentences"
      ],
      "metadata": {
        "id": "Jc-p2vdm08ln",
        "outputId": "43449fba-ee7c-41c6-faea-aaa6c8af6b8a",
        "colab": {
          "base_uri": "https://localhost:8080/"
        }
      },
      "id": "Jc-p2vdm08ln",
      "execution_count": 43,
      "outputs": [
        {
          "output_type": "execute_result",
          "data": {
            "text/plain": [
              "['the dowri system evil societi .',\n",
              " 'It reduc sacr affair marriag busi deal .',\n",
              " 'bride treat market commod .',\n",
              " 'the parent bride often put inhuman pressur handsom dowri .',\n",
              " 'sometim becom pauper get daughter marri .',\n",
              " 'In mani case , young bride ruthlessli tortur push suicid .',\n",
              " 'To erad social evil , total chang outlook societi must .',\n",
              " 'the woman consid equal partner man .',\n",
              " 'widespread educ employ right properti bring right remedi .',\n",
              " 'legal prohibit dowri enough .',\n",
              " 'strong social disapprov dowri guarante evil .',\n",
              " 'our youth come forward gener public awar shame custom .']"
            ]
          },
          "metadata": {},
          "execution_count": 43
        }
      ]
    }
  ],
  "metadata": {
    "kernelspec": {
      "display_name": "Python 3 (ipykernel)",
      "language": "python",
      "name": "python3"
    },
    "language_info": {
      "codemirror_mode": {
        "name": "ipython",
        "version": 3
      },
      "file_extension": ".py",
      "mimetype": "text/x-python",
      "name": "python",
      "nbconvert_exporter": "python",
      "pygments_lexer": "ipython3",
      "version": "3.8.11"
    },
    "colab": {
      "name": "Stemming.ipynb",
      "provenance": []
    }
  },
  "nbformat": 4,
  "nbformat_minor": 5
}