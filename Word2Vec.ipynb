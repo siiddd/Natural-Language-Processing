{
  "cells": [
    {
      "cell_type": "code",
      "execution_count": 1,
      "id": "9af1a7ef",
      "metadata": {
        "colab": {
          "base_uri": "https://localhost:8080/"
        },
        "id": "9af1a7ef",
        "outputId": "bbb4cbfd-550e-47af-d81c-bf3f005bdaf5"
      },
      "outputs": [
        {
          "output_type": "stream",
          "name": "stdout",
          "text": [
            "[nltk_data] Downloading collection 'popular'\n",
            "[nltk_data]    | \n",
            "[nltk_data]    | Downloading package cmudict to /root/nltk_data...\n",
            "[nltk_data]    |   Unzipping corpora/cmudict.zip.\n",
            "[nltk_data]    | Downloading package gazetteers to /root/nltk_data...\n",
            "[nltk_data]    |   Unzipping corpora/gazetteers.zip.\n",
            "[nltk_data]    | Downloading package genesis to /root/nltk_data...\n",
            "[nltk_data]    |   Unzipping corpora/genesis.zip.\n",
            "[nltk_data]    | Downloading package gutenberg to /root/nltk_data...\n",
            "[nltk_data]    |   Unzipping corpora/gutenberg.zip.\n",
            "[nltk_data]    | Downloading package inaugural to /root/nltk_data...\n",
            "[nltk_data]    |   Unzipping corpora/inaugural.zip.\n",
            "[nltk_data]    | Downloading package movie_reviews to\n",
            "[nltk_data]    |     /root/nltk_data...\n",
            "[nltk_data]    |   Unzipping corpora/movie_reviews.zip.\n",
            "[nltk_data]    | Downloading package names to /root/nltk_data...\n",
            "[nltk_data]    |   Unzipping corpora/names.zip.\n",
            "[nltk_data]    | Downloading package shakespeare to /root/nltk_data...\n",
            "[nltk_data]    |   Unzipping corpora/shakespeare.zip.\n",
            "[nltk_data]    | Downloading package stopwords to /root/nltk_data...\n",
            "[nltk_data]    |   Unzipping corpora/stopwords.zip.\n",
            "[nltk_data]    | Downloading package treebank to /root/nltk_data...\n",
            "[nltk_data]    |   Unzipping corpora/treebank.zip.\n",
            "[nltk_data]    | Downloading package twitter_samples to\n",
            "[nltk_data]    |     /root/nltk_data...\n",
            "[nltk_data]    |   Unzipping corpora/twitter_samples.zip.\n",
            "[nltk_data]    | Downloading package omw to /root/nltk_data...\n",
            "[nltk_data]    |   Unzipping corpora/omw.zip.\n",
            "[nltk_data]    | Downloading package omw-1.4 to /root/nltk_data...\n",
            "[nltk_data]    |   Unzipping corpora/omw-1.4.zip.\n",
            "[nltk_data]    | Downloading package wordnet to /root/nltk_data...\n",
            "[nltk_data]    |   Unzipping corpora/wordnet.zip.\n",
            "[nltk_data]    | Downloading package wordnet2021 to /root/nltk_data...\n",
            "[nltk_data]    |   Unzipping corpora/wordnet2021.zip.\n",
            "[nltk_data]    | Downloading package wordnet31 to /root/nltk_data...\n",
            "[nltk_data]    |   Unzipping corpora/wordnet31.zip.\n",
            "[nltk_data]    | Downloading package wordnet_ic to /root/nltk_data...\n",
            "[nltk_data]    |   Unzipping corpora/wordnet_ic.zip.\n",
            "[nltk_data]    | Downloading package words to /root/nltk_data...\n",
            "[nltk_data]    |   Unzipping corpora/words.zip.\n",
            "[nltk_data]    | Downloading package maxent_ne_chunker to\n",
            "[nltk_data]    |     /root/nltk_data...\n",
            "[nltk_data]    |   Unzipping chunkers/maxent_ne_chunker.zip.\n",
            "[nltk_data]    | Downloading package punkt to /root/nltk_data...\n",
            "[nltk_data]    |   Unzipping tokenizers/punkt.zip.\n",
            "[nltk_data]    | Downloading package snowball_data to\n",
            "[nltk_data]    |     /root/nltk_data...\n",
            "[nltk_data]    | Downloading package averaged_perceptron_tagger to\n",
            "[nltk_data]    |     /root/nltk_data...\n",
            "[nltk_data]    |   Unzipping taggers/averaged_perceptron_tagger.zip.\n",
            "[nltk_data]    | \n",
            "[nltk_data]  Done downloading collection popular\n"
          ]
        },
        {
          "output_type": "execute_result",
          "data": {
            "text/plain": [
              "True"
            ]
          },
          "metadata": {},
          "execution_count": 1
        }
      ],
      "source": [
        "import nltk\n",
        "nltk.download('popular')"
      ]
    },
    {
      "cell_type": "code",
      "source": [
        "from nltk.corpus import stopwords\n",
        "from nltk.tokenize import word_tokenize, sent_tokenize\n",
        "from nltk.stem import WordNetLemmatizer"
      ],
      "metadata": {
        "id": "QhqruAZ2N6Pm"
      },
      "id": "QhqruAZ2N6Pm",
      "execution_count": 2,
      "outputs": []
    },
    {
      "cell_type": "code",
      "source": [
        "paragraph = \"\"\"Once, there was a boy who became bored when he watched over the village sheep grazing on the hillside. To entertain himself, he sang out, “Wolf! Wolf! The wolf is chasing the sheep!”\n",
        "\n",
        "When the villagers heard the cry, they came running up the hill to drive the wolf away. But, when they arrived, they saw no wolf. The boy was amused when seeing their angry faces.\n",
        "\n",
        "“Don’t scream wolf, boy,” warned the villagers, “when there is no wolf!” They angrily went back down the hill.\n",
        "\n",
        "Later, the shepherd boy cried out once again, “Wolf! Wolf! The wolf is chasing the sheep!” To his amusement, he looked on as the villagers came running up the hill to scare the wolf away.\n",
        "\n",
        "As they saw there was no wolf, they said strictly, “Save your frightened cry for when there really is a wolf! Don’t cry ‘wolf’ when there is no wolf!” But the boy grinned at their words while they walked grumbling down the hill once more.\n",
        "\n",
        "Later, the boy saw a real wolf sneaking around his flock. Alarmed, he jumped on his feet and cried out as loud as he could, “Wolf! Wolf!” But the villagers thought he was fooling them again, and so they didn’t come to help.\n",
        "\n",
        "At sunset, the villagers went looking for the boy who hadn’t returned with their sheep. When they went up the hill, they found him weeping.\n",
        "\n",
        "“There really was a wolf here! The flock is gone! I cried out, ‘Wolf!’ but you didn’t come,” he wailed.\n",
        "\n",
        "An old man went to comfort the boy. As he put his arm around him, he said, “Nobody believes a liar, even when he is telling the truth!\"\"\"\n",
        "\n",
        "paragraph"
      ],
      "metadata": {
        "colab": {
          "base_uri": "https://localhost:8080/",
          "height": 107
        },
        "id": "3sfnov0oPDrB",
        "outputId": "b8e488ab-c7ab-407d-8bb4-815e3e7e7f94"
      },
      "id": "3sfnov0oPDrB",
      "execution_count": 3,
      "outputs": [
        {
          "output_type": "execute_result",
          "data": {
            "application/vnd.google.colaboratory.intrinsic+json": {
              "type": "string"
            },
            "text/plain": [
              "'Once, there was a boy who became bored when he watched over the village sheep grazing on the hillside. To entertain himself, he sang out, “Wolf! Wolf! The wolf is chasing the sheep!”\\n\\nWhen the villagers heard the cry, they came running up the hill to drive the wolf away. But, when they arrived, they saw no wolf. The boy was amused when seeing their angry faces.\\n\\n“Don’t scream wolf, boy,” warned the villagers, “when there is no wolf!” They angrily went back down the hill.\\n\\nLater, the shepherd boy cried out once again, “Wolf! Wolf! The wolf is chasing the sheep!” To his amusement, he looked on as the villagers came running up the hill to scare the wolf away.\\n\\nAs they saw there was no wolf, they said strictly, “Save your frightened cry for when there really is a wolf! Don’t cry ‘wolf’ when there is no wolf!” But the boy grinned at their words while they walked grumbling down the hill once more.\\n\\nLater, the boy saw a real wolf sneaking around his flock. Alarmed, he jumped on his feet and cried out as loud as he could, “Wolf! Wolf!” But the villagers thought he was fooling them again, and so they didn’t come to help.\\n\\nAt sunset, the villagers went looking for the boy who hadn’t returned with their sheep. When they went up the hill, they found him weeping.\\n\\n“There really was a wolf here! The flock is gone! I cried out, ‘Wolf!’ but you didn’t come,” he wailed.\\n\\nAn old man went to comfort the boy. As he put his arm around him, he said, “Nobody believes a liar, even when he is telling the truth!'"
            ]
          },
          "metadata": {},
          "execution_count": 3
        }
      ]
    },
    {
      "cell_type": "code",
      "source": [
        "sentences = nltk.sent_tokenize(paragraph)\n",
        "sentences"
      ],
      "metadata": {
        "colab": {
          "base_uri": "https://localhost:8080/"
        },
        "id": "A7Mg4dqfRiTj",
        "outputId": "461f4143-5a2b-4572-9d0a-fdbca62d8231"
      },
      "id": "A7Mg4dqfRiTj",
      "execution_count": 45,
      "outputs": [
        {
          "output_type": "execute_result",
          "data": {
            "text/plain": [
              "['Once, there was a boy who became bored when he watched over the village sheep grazing on the hillside.',\n",
              " 'To entertain himself, he sang out, “Wolf!',\n",
              " 'Wolf!',\n",
              " 'The wolf is chasing the sheep!”\\n\\nWhen the villagers heard the cry, they came running up the hill to drive the wolf away.',\n",
              " 'But, when they arrived, they saw no wolf.',\n",
              " 'The boy was amused when seeing their angry faces.',\n",
              " '“Don’t scream wolf, boy,” warned the villagers, “when there is no wolf!” They angrily went back down the hill.',\n",
              " 'Later, the shepherd boy cried out once again, “Wolf!',\n",
              " 'Wolf!',\n",
              " 'The wolf is chasing the sheep!” To his amusement, he looked on as the villagers came running up the hill to scare the wolf away.',\n",
              " 'As they saw there was no wolf, they said strictly, “Save your frightened cry for when there really is a wolf!',\n",
              " 'Don’t cry ‘wolf’ when there is no wolf!” But the boy grinned at their words while they walked grumbling down the hill once more.',\n",
              " 'Later, the boy saw a real wolf sneaking around his flock.',\n",
              " 'Alarmed, he jumped on his feet and cried out as loud as he could, “Wolf!',\n",
              " 'Wolf!” But the villagers thought he was fooling them again, and so they didn’t come to help.',\n",
              " 'At sunset, the villagers went looking for the boy who hadn’t returned with their sheep.',\n",
              " 'When they went up the hill, they found him weeping.',\n",
              " '“There really was a wolf here!',\n",
              " 'The flock is gone!',\n",
              " 'I cried out, ‘Wolf!’ but you didn’t come,” he wailed.',\n",
              " 'An old man went to comfort the boy.',\n",
              " 'As he put his arm around him, he said, “Nobody believes a liar, even when he is telling the truth!']"
            ]
          },
          "metadata": {},
          "execution_count": 45
        }
      ]
    },
    {
      "cell_type": "code",
      "source": [
        "sentences[1]"
      ],
      "metadata": {
        "colab": {
          "base_uri": "https://localhost:8080/",
          "height": 36
        },
        "id": "lvbsO2Knbc8U",
        "outputId": "f9021cb6-1b61-4060-ed68-fa6a111076b4"
      },
      "id": "lvbsO2Knbc8U",
      "execution_count": 48,
      "outputs": [
        {
          "output_type": "execute_result",
          "data": {
            "application/vnd.google.colaboratory.intrinsic+json": {
              "type": "string"
            },
            "text/plain": [
              "'To entertain himself, he sang out, “Wolf!'"
            ]
          },
          "metadata": {},
          "execution_count": 48
        }
      ]
    },
    {
      "cell_type": "code",
      "source": [
        "words = nltk.word_tokenize(sentences[1])\n",
        "words"
      ],
      "metadata": {
        "colab": {
          "base_uri": "https://localhost:8080/"
        },
        "id": "PWxntZzFce5g",
        "outputId": "d07cd712-8af6-4b20-bacb-ece903194bdb"
      },
      "id": "PWxntZzFce5g",
      "execution_count": 66,
      "outputs": [
        {
          "output_type": "execute_result",
          "data": {
            "text/plain": [
              "['To', 'entertain', 'himself', ',', 'he', 'sang', 'out', ',', '“', 'Wolf', '!']"
            ]
          },
          "metadata": {},
          "execution_count": 66
        }
      ]
    },
    {
      "cell_type": "code",
      "source": [
        "for i in range(len(sentences)):\n",
        "  words = nltk.word_tokenize(sentences[i])\n",
        "  words = [WordNetLemmatizer().lemmatize(word) for word in words if word not in stopwords.words('english')]\n",
        "  sentences[i] = ' '.join(words)"
      ],
      "metadata": {
        "id": "RvGEa7v6TUPw"
      },
      "id": "RvGEa7v6TUPw",
      "execution_count": 70,
      "outputs": []
    },
    {
      "cell_type": "code",
      "source": [
        "sentences[1]"
      ],
      "metadata": {
        "colab": {
          "base_uri": "https://localhost:8080/",
          "height": 36
        },
        "id": "gCGrFXFR1yNK",
        "outputId": "bfbe5959-2385-46a7-8826-cd30a66058d2"
      },
      "id": "gCGrFXFR1yNK",
      "execution_count": 71,
      "outputs": [
        {
          "output_type": "execute_result",
          "data": {
            "application/vnd.google.colaboratory.intrinsic+json": {
              "type": "string"
            },
            "text/plain": [
              "'To entertain , sang , “ Wolf !'"
            ]
          },
          "metadata": {},
          "execution_count": 71
        }
      ]
    },
    {
      "cell_type": "code",
      "source": [
        "from gensim.models import Word2Vec\n",
        "\n",
        "model = Word2Vec(sentences = sentences, min_count = 1)"
      ],
      "metadata": {
        "id": "EShxYkgLZleu"
      },
      "id": "EShxYkgLZleu",
      "execution_count": 35,
      "outputs": []
    },
    {
      "cell_type": "code",
      "source": [
        "sentences[1]"
      ],
      "metadata": {
        "colab": {
          "base_uri": "https://localhost:8080/"
        },
        "id": "zRLlBywaYtb1",
        "outputId": "8d1d1606-eef1-47e6-ed48-46a98397cca6"
      },
      "id": "zRLlBywaYtb1",
      "execution_count": 40,
      "outputs": [
        {
          "output_type": "execute_result",
          "data": {
            "text/plain": [
              "['Once',\n",
              " ',',\n",
              " 'boy',\n",
              " 'became',\n",
              " 'bored',\n",
              " 'watched',\n",
              " 'village',\n",
              " 'sheep',\n",
              " 'grazing',\n",
              " 'hillside',\n",
              " '.',\n",
              " 'To',\n",
              " 'entertain',\n",
              " ',',\n",
              " 'sang',\n",
              " ',',\n",
              " '“',\n",
              " 'Wolf',\n",
              " '!',\n",
              " 'Wolf',\n",
              " '!',\n",
              " 'The',\n",
              " 'wolf',\n",
              " 'chasing',\n",
              " 'sheep',\n",
              " '!',\n",
              " '”',\n",
              " 'When',\n",
              " 'villagers',\n",
              " 'heard',\n",
              " 'cry',\n",
              " ',',\n",
              " 'came',\n",
              " 'running',\n",
              " 'hill',\n",
              " 'drive',\n",
              " 'wolf',\n",
              " 'away',\n",
              " '.',\n",
              " 'But',\n",
              " ',',\n",
              " 'arrived',\n",
              " ',',\n",
              " 'saw',\n",
              " 'wolf',\n",
              " '.',\n",
              " 'The',\n",
              " 'boy',\n",
              " 'amused',\n",
              " 'seeing',\n",
              " 'angry',\n",
              " 'faces',\n",
              " '.',\n",
              " '“',\n",
              " 'Don',\n",
              " '’',\n",
              " 'scream',\n",
              " 'wolf',\n",
              " ',',\n",
              " 'boy',\n",
              " ',',\n",
              " '”',\n",
              " 'warned',\n",
              " 'villagers',\n",
              " ',',\n",
              " '“',\n",
              " 'wolf',\n",
              " '!',\n",
              " '”',\n",
              " 'They',\n",
              " 'angrily',\n",
              " 'went',\n",
              " 'back',\n",
              " 'hill',\n",
              " '.',\n",
              " 'Later',\n",
              " ',',\n",
              " 'shepherd',\n",
              " 'boy',\n",
              " 'cried',\n",
              " ',',\n",
              " '“',\n",
              " 'Wolf',\n",
              " '!',\n",
              " 'Wolf',\n",
              " '!',\n",
              " 'The',\n",
              " 'wolf',\n",
              " 'chasing',\n",
              " 'sheep',\n",
              " '!',\n",
              " '”',\n",
              " 'To',\n",
              " 'amusement',\n",
              " ',',\n",
              " 'looked',\n",
              " 'villagers',\n",
              " 'came',\n",
              " 'running',\n",
              " 'hill',\n",
              " 'scare',\n",
              " 'wolf',\n",
              " 'away',\n",
              " '.',\n",
              " 'As',\n",
              " 'saw',\n",
              " 'wolf',\n",
              " ',',\n",
              " 'said',\n",
              " 'strictly',\n",
              " ',',\n",
              " '“',\n",
              " 'Save',\n",
              " 'frightened',\n",
              " 'cry',\n",
              " 'really',\n",
              " 'wolf',\n",
              " '!',\n",
              " 'Don',\n",
              " '’',\n",
              " 'cry',\n",
              " '‘',\n",
              " 'wolf',\n",
              " '’',\n",
              " 'wolf',\n",
              " '!',\n",
              " '”',\n",
              " 'But',\n",
              " 'boy',\n",
              " 'grinned',\n",
              " 'words',\n",
              " 'walked',\n",
              " 'grumbling',\n",
              " 'hill',\n",
              " '.',\n",
              " 'Later',\n",
              " ',',\n",
              " 'boy',\n",
              " 'saw',\n",
              " 'real',\n",
              " 'wolf',\n",
              " 'sneaking',\n",
              " 'around',\n",
              " 'flock',\n",
              " '.',\n",
              " 'Alarmed',\n",
              " ',',\n",
              " 'jumped',\n",
              " 'feet',\n",
              " 'cried',\n",
              " 'loud',\n",
              " 'could',\n",
              " ',',\n",
              " '“',\n",
              " 'Wolf',\n",
              " '!',\n",
              " 'Wolf',\n",
              " '!',\n",
              " '”',\n",
              " 'But',\n",
              " 'villagers',\n",
              " 'thought',\n",
              " 'fooling',\n",
              " ',',\n",
              " '’',\n",
              " 'come',\n",
              " 'help',\n",
              " '.',\n",
              " 'At',\n",
              " 'sunset',\n",
              " ',',\n",
              " 'villagers',\n",
              " 'went',\n",
              " 'looking',\n",
              " 'boy',\n",
              " '’',\n",
              " 'returned',\n",
              " 'sheep',\n",
              " '.',\n",
              " 'When',\n",
              " 'went',\n",
              " 'hill',\n",
              " ',',\n",
              " 'found',\n",
              " 'weeping',\n",
              " '.',\n",
              " '“',\n",
              " 'There',\n",
              " 'really',\n",
              " 'wolf',\n",
              " '!',\n",
              " 'The',\n",
              " 'flock',\n",
              " 'gone',\n",
              " '!',\n",
              " 'I',\n",
              " 'cried',\n",
              " ',',\n",
              " '‘',\n",
              " 'Wolf',\n",
              " '!',\n",
              " '’',\n",
              " '’',\n",
              " 'come',\n",
              " ',',\n",
              " '”',\n",
              " 'wailed',\n",
              " '.',\n",
              " 'An',\n",
              " 'old',\n",
              " 'man',\n",
              " 'went',\n",
              " 'comfort',\n",
              " 'boy',\n",
              " '.',\n",
              " 'As',\n",
              " 'put',\n",
              " 'arm',\n",
              " 'around',\n",
              " ',',\n",
              " 'said',\n",
              " ',',\n",
              " '“',\n",
              " 'Nobody',\n",
              " 'believes',\n",
              " 'liar',\n",
              " ',',\n",
              " 'even',\n",
              " 'telling',\n",
              " 'truth',\n",
              " '!']"
            ]
          },
          "metadata": {},
          "execution_count": 40
        }
      ]
    },
    {
      "cell_type": "code",
      "source": [
        "vocabulary = model.wv.vocab\n",
        "vocabulary"
      ],
      "metadata": {
        "colab": {
          "base_uri": "https://localhost:8080/"
        },
        "id": "g20mrSPXX6IH",
        "outputId": "3cf35503-f16b-4d0d-8da2-72a1410123a7"
      },
      "id": "g20mrSPXX6IH",
      "execution_count": 36,
      "outputs": [
        {
          "output_type": "execute_result",
          "data": {
            "text/plain": [
              "{'!': <gensim.models.keyedvectors.Vocab at 0x7f599943e090>,\n",
              " ',': <gensim.models.keyedvectors.Vocab at 0x7f599943e850>,\n",
              " '.': <gensim.models.keyedvectors.Vocab at 0x7f599943eb90>,\n",
              " 'Alarmed': <gensim.models.keyedvectors.Vocab at 0x7f5999439050>,\n",
              " 'An': <gensim.models.keyedvectors.Vocab at 0x7f5999497110>,\n",
              " 'As': <gensim.models.keyedvectors.Vocab at 0x7f5999439350>,\n",
              " 'At': <gensim.models.keyedvectors.Vocab at 0x7f5999497950>,\n",
              " 'But': <gensim.models.keyedvectors.Vocab at 0x7f599943e790>,\n",
              " 'Don': <gensim.models.keyedvectors.Vocab at 0x7f5999439550>,\n",
              " 'I': <gensim.models.keyedvectors.Vocab at 0x7f5999497a10>,\n",
              " 'Later': <gensim.models.keyedvectors.Vocab at 0x7f5999439fd0>,\n",
              " 'Nobody': <gensim.models.keyedvectors.Vocab at 0x7f5999438290>,\n",
              " 'Once': <gensim.models.keyedvectors.Vocab at 0x7f599943e6d0>,\n",
              " 'Save': <gensim.models.keyedvectors.Vocab at 0x7f5999439f50>,\n",
              " 'The': <gensim.models.keyedvectors.Vocab at 0x7f599943e5d0>,\n",
              " 'There': <gensim.models.keyedvectors.Vocab at 0x7f5999497dd0>,\n",
              " 'They': <gensim.models.keyedvectors.Vocab at 0x7f5999439390>,\n",
              " 'To': <gensim.models.keyedvectors.Vocab at 0x7f599943e490>,\n",
              " 'When': <gensim.models.keyedvectors.Vocab at 0x7f599943e250>,\n",
              " 'Wolf': <gensim.models.keyedvectors.Vocab at 0x7f599943e1d0>,\n",
              " 'amused': <gensim.models.keyedvectors.Vocab at 0x7f59994398d0>,\n",
              " 'amusement': <gensim.models.keyedvectors.Vocab at 0x7f5999439210>,\n",
              " 'angrily': <gensim.models.keyedvectors.Vocab at 0x7f5999439f90>,\n",
              " 'angry': <gensim.models.keyedvectors.Vocab at 0x7f5999439d50>,\n",
              " 'arm': <gensim.models.keyedvectors.Vocab at 0x7f5999438090>,\n",
              " 'around': <gensim.models.keyedvectors.Vocab at 0x7f59994395d0>,\n",
              " 'arrived': <gensim.models.keyedvectors.Vocab at 0x7f599943e410>,\n",
              " 'away': <gensim.models.keyedvectors.Vocab at 0x7f599943ee90>,\n",
              " 'back': <gensim.models.keyedvectors.Vocab at 0x7f5999439190>,\n",
              " 'became': <gensim.models.keyedvectors.Vocab at 0x7f599943ea10>,\n",
              " 'believes': <gensim.models.keyedvectors.Vocab at 0x7f5999438050>,\n",
              " 'bored': <gensim.models.keyedvectors.Vocab at 0x7f599943ed50>,\n",
              " 'boy': <gensim.models.keyedvectors.Vocab at 0x7f599943e310>,\n",
              " 'came': <gensim.models.keyedvectors.Vocab at 0x7f599943ea90>,\n",
              " 'chasing': <gensim.models.keyedvectors.Vocab at 0x7f599943e450>,\n",
              " 'come': <gensim.models.keyedvectors.Vocab at 0x7f59994978d0>,\n",
              " 'comfort': <gensim.models.keyedvectors.Vocab at 0x7f599979da50>,\n",
              " 'could': <gensim.models.keyedvectors.Vocab at 0x7f5999497290>,\n",
              " 'cried': <gensim.models.keyedvectors.Vocab at 0x7f59994390d0>,\n",
              " 'cry': <gensim.models.keyedvectors.Vocab at 0x7f599943ec90>,\n",
              " 'drive': <gensim.models.keyedvectors.Vocab at 0x7f599943e7d0>,\n",
              " 'entertain': <gensim.models.keyedvectors.Vocab at 0x7f599943e610>,\n",
              " 'even': <gensim.models.keyedvectors.Vocab at 0x7f59994348d0>,\n",
              " 'faces': <gensim.models.keyedvectors.Vocab at 0x7f5999439a90>,\n",
              " 'feet': <gensim.models.keyedvectors.Vocab at 0x7f5999497d10>,\n",
              " 'flock': <gensim.models.keyedvectors.Vocab at 0x7f5999439410>,\n",
              " 'fooling': <gensim.models.keyedvectors.Vocab at 0x7f5999497390>,\n",
              " 'found': <gensim.models.keyedvectors.Vocab at 0x7f5999497f90>,\n",
              " 'frightened': <gensim.models.keyedvectors.Vocab at 0x7f59994392d0>,\n",
              " 'gone': <gensim.models.keyedvectors.Vocab at 0x7f59994974d0>,\n",
              " 'grazing': <gensim.models.keyedvectors.Vocab at 0x7f599943e390>,\n",
              " 'grinned': <gensim.models.keyedvectors.Vocab at 0x7f5999439dd0>,\n",
              " 'grumbling': <gensim.models.keyedvectors.Vocab at 0x7f5999439a10>,\n",
              " 'heard': <gensim.models.keyedvectors.Vocab at 0x7f599943e4d0>,\n",
              " 'help': <gensim.models.keyedvectors.Vocab at 0x7f5999497f50>,\n",
              " 'hill': <gensim.models.keyedvectors.Vocab at 0x7f599943edd0>,\n",
              " 'hillside': <gensim.models.keyedvectors.Vocab at 0x7f599943ef90>,\n",
              " 'jumped': <gensim.models.keyedvectors.Vocab at 0x7f5999497810>,\n",
              " 'liar': <gensim.models.keyedvectors.Vocab at 0x7f59994345d0>,\n",
              " 'looked': <gensim.models.keyedvectors.Vocab at 0x7f59994391d0>,\n",
              " 'looking': <gensim.models.keyedvectors.Vocab at 0x7f5999497a90>,\n",
              " 'loud': <gensim.models.keyedvectors.Vocab at 0x7f5999497350>,\n",
              " 'man': <gensim.models.keyedvectors.Vocab at 0x7f5999497c50>,\n",
              " 'old': <gensim.models.keyedvectors.Vocab at 0x7f5999497f10>,\n",
              " 'put': <gensim.models.keyedvectors.Vocab at 0x7f599c4c2510>,\n",
              " 'real': <gensim.models.keyedvectors.Vocab at 0x7f5999439690>,\n",
              " 'really': <gensim.models.keyedvectors.Vocab at 0x7f5999439610>,\n",
              " 'returned': <gensim.models.keyedvectors.Vocab at 0x7f5999497a50>,\n",
              " 'running': <gensim.models.keyedvectors.Vocab at 0x7f599943eb10>,\n",
              " 'said': <gensim.models.keyedvectors.Vocab at 0x7f5999439810>,\n",
              " 'sang': <gensim.models.keyedvectors.Vocab at 0x7f599943ec50>,\n",
              " 'saw': <gensim.models.keyedvectors.Vocab at 0x7f5999439850>,\n",
              " 'scare': <gensim.models.keyedvectors.Vocab at 0x7f5999439090>,\n",
              " 'scream': <gensim.models.keyedvectors.Vocab at 0x7f5999439650>,\n",
              " 'seeing': <gensim.models.keyedvectors.Vocab at 0x7f5999439710>,\n",
              " 'sheep': <gensim.models.keyedvectors.Vocab at 0x7f599943e710>,\n",
              " 'shepherd': <gensim.models.keyedvectors.Vocab at 0x7f5999439c90>,\n",
              " 'sneaking': <gensim.models.keyedvectors.Vocab at 0x7f5999439910>,\n",
              " 'strictly': <gensim.models.keyedvectors.Vocab at 0x7f59994396d0>,\n",
              " 'sunset': <gensim.models.keyedvectors.Vocab at 0x7f5999497d90>,\n",
              " 'telling': <gensim.models.keyedvectors.Vocab at 0x7f5999434450>,\n",
              " 'thought': <gensim.models.keyedvectors.Vocab at 0x7f59994975d0>,\n",
              " 'truth': <gensim.models.keyedvectors.Vocab at 0x7f5999434050>,\n",
              " 'village': <gensim.models.keyedvectors.Vocab at 0x7f599943ead0>,\n",
              " 'villagers': <gensim.models.keyedvectors.Vocab at 0x7f599943e050>,\n",
              " 'wailed': <gensim.models.keyedvectors.Vocab at 0x7f5999497d50>,\n",
              " 'walked': <gensim.models.keyedvectors.Vocab at 0x7f5999439510>,\n",
              " 'warned': <gensim.models.keyedvectors.Vocab at 0x7f5999439e90>,\n",
              " 'watched': <gensim.models.keyedvectors.Vocab at 0x7f599943eed0>,\n",
              " 'weeping': <gensim.models.keyedvectors.Vocab at 0x7f5999497690>,\n",
              " 'went': <gensim.models.keyedvectors.Vocab at 0x7f59994399d0>,\n",
              " 'wolf': <gensim.models.keyedvectors.Vocab at 0x7f599943e810>,\n",
              " 'words': <gensim.models.keyedvectors.Vocab at 0x7f5999439250>,\n",
              " '‘': <gensim.models.keyedvectors.Vocab at 0x7f59994393d0>,\n",
              " '’': <gensim.models.keyedvectors.Vocab at 0x7f5999439950>,\n",
              " '“': <gensim.models.keyedvectors.Vocab at 0x7f599943e950>,\n",
              " '”': <gensim.models.keyedvectors.Vocab at 0x7f599943e350>}"
            ]
          },
          "metadata": {},
          "execution_count": 36
        }
      ]
    }
  ],
  "metadata": {
    "kernelspec": {
      "display_name": "Python 3 (ipykernel)",
      "language": "python",
      "name": "python3"
    },
    "language_info": {
      "codemirror_mode": {
        "name": "ipython",
        "version": 3
      },
      "file_extension": ".py",
      "mimetype": "text/x-python",
      "name": "python",
      "nbconvert_exporter": "python",
      "pygments_lexer": "ipython3",
      "version": "3.8.11"
    },
    "colab": {
      "name": "Word2Vec.ipynb",
      "provenance": []
    }
  },
  "nbformat": 4,
  "nbformat_minor": 5
}