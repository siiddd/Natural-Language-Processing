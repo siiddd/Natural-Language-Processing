{
  "cells": [
    {
      "cell_type": "code",
      "execution_count": 1,
      "id": "9af1a7ef",
      "metadata": {
        "colab": {
          "base_uri": "https://localhost:8080/"
        },
        "id": "9af1a7ef",
        "outputId": "15ee7c35-d5de-4e48-d041-834bab6e4b8c"
      },
      "outputs": [
        {
          "output_type": "stream",
          "name": "stdout",
          "text": [
            "[nltk_data] Downloading collection 'popular'\n",
            "[nltk_data]    | \n",
            "[nltk_data]    | Downloading package cmudict to /root/nltk_data...\n",
            "[nltk_data]    |   Unzipping corpora/cmudict.zip.\n",
            "[nltk_data]    | Downloading package gazetteers to /root/nltk_data...\n",
            "[nltk_data]    |   Unzipping corpora/gazetteers.zip.\n",
            "[nltk_data]    | Downloading package genesis to /root/nltk_data...\n",
            "[nltk_data]    |   Unzipping corpora/genesis.zip.\n",
            "[nltk_data]    | Downloading package gutenberg to /root/nltk_data...\n",
            "[nltk_data]    |   Unzipping corpora/gutenberg.zip.\n",
            "[nltk_data]    | Downloading package inaugural to /root/nltk_data...\n",
            "[nltk_data]    |   Unzipping corpora/inaugural.zip.\n",
            "[nltk_data]    | Downloading package movie_reviews to\n",
            "[nltk_data]    |     /root/nltk_data...\n",
            "[nltk_data]    |   Unzipping corpora/movie_reviews.zip.\n",
            "[nltk_data]    | Downloading package names to /root/nltk_data...\n",
            "[nltk_data]    |   Unzipping corpora/names.zip.\n",
            "[nltk_data]    | Downloading package shakespeare to /root/nltk_data...\n",
            "[nltk_data]    |   Unzipping corpora/shakespeare.zip.\n",
            "[nltk_data]    | Downloading package stopwords to /root/nltk_data...\n",
            "[nltk_data]    |   Unzipping corpora/stopwords.zip.\n",
            "[nltk_data]    | Downloading package treebank to /root/nltk_data...\n",
            "[nltk_data]    |   Unzipping corpora/treebank.zip.\n",
            "[nltk_data]    | Downloading package twitter_samples to\n",
            "[nltk_data]    |     /root/nltk_data...\n",
            "[nltk_data]    |   Unzipping corpora/twitter_samples.zip.\n",
            "[nltk_data]    | Downloading package omw to /root/nltk_data...\n",
            "[nltk_data]    |   Unzipping corpora/omw.zip.\n",
            "[nltk_data]    | Downloading package omw-1.4 to /root/nltk_data...\n",
            "[nltk_data]    |   Unzipping corpora/omw-1.4.zip.\n",
            "[nltk_data]    | Downloading package wordnet to /root/nltk_data...\n",
            "[nltk_data]    |   Unzipping corpora/wordnet.zip.\n",
            "[nltk_data]    | Downloading package wordnet2021 to /root/nltk_data...\n",
            "[nltk_data]    |   Unzipping corpora/wordnet2021.zip.\n",
            "[nltk_data]    | Downloading package wordnet31 to /root/nltk_data...\n",
            "[nltk_data]    |   Unzipping corpora/wordnet31.zip.\n",
            "[nltk_data]    | Downloading package wordnet_ic to /root/nltk_data...\n",
            "[nltk_data]    |   Unzipping corpora/wordnet_ic.zip.\n",
            "[nltk_data]    | Downloading package words to /root/nltk_data...\n",
            "[nltk_data]    |   Unzipping corpora/words.zip.\n",
            "[nltk_data]    | Downloading package maxent_ne_chunker to\n",
            "[nltk_data]    |     /root/nltk_data...\n",
            "[nltk_data]    |   Unzipping chunkers/maxent_ne_chunker.zip.\n",
            "[nltk_data]    | Downloading package punkt to /root/nltk_data...\n",
            "[nltk_data]    |   Unzipping tokenizers/punkt.zip.\n",
            "[nltk_data]    | Downloading package snowball_data to\n",
            "[nltk_data]    |     /root/nltk_data...\n",
            "[nltk_data]    | Downloading package averaged_perceptron_tagger to\n",
            "[nltk_data]    |     /root/nltk_data...\n",
            "[nltk_data]    |   Unzipping taggers/averaged_perceptron_tagger.zip.\n",
            "[nltk_data]    | \n",
            "[nltk_data]  Done downloading collection popular\n"
          ]
        },
        {
          "output_type": "execute_result",
          "data": {
            "text/plain": [
              "True"
            ]
          },
          "metadata": {},
          "execution_count": 1
        }
      ],
      "source": [
        "import nltk\n",
        "nltk.download('popular')"
      ]
    },
    {
      "cell_type": "code",
      "source": [
        "from nltk.corpus import stopwords\n",
        "from nltk.tokenize import word_tokenize, sent_tokenize\n",
        "from nltk.stem import WordNetLemmatizer"
      ],
      "metadata": {
        "id": "QhqruAZ2N6Pm"
      },
      "id": "QhqruAZ2N6Pm",
      "execution_count": 2,
      "outputs": []
    },
    {
      "cell_type": "code",
      "source": [
        "paragraph = \"\"\"I have three visions for India. In 3000 years of our history, people from all over \n",
        "               the world have come and invaded us, captured our lands, conquered our minds. \n",
        "               From Alexander onwards, the Greeks, the Turks, the Moguls, the Portuguese, the British,\n",
        "               the French, the Dutch, all of them came and looted us, took over what was ours. \n",
        "               Yet we have not done this to any other nation. We have not conquered anyone. \n",
        "               We have not grabbed their land, their culture, \n",
        "               their history and tried to enforce our way of life on them. \n",
        "               Why? Because we respect the freedom of others.That is why my \n",
        "               first vision is that of freedom. I believe that India got its first vision of \n",
        "               this in 1857, when we started the War of Independence. It is this freedom that\n",
        "               we must protect and nurture and build on. If we are not free, no one will respect us.\n",
        "               My second vision for India’s development. For fifty years we have been a developing nation.\n",
        "               It is time we see ourselves as a developed nation. We are among the top 5 nations of the world\n",
        "               in terms of GDP. We have a 10 percent growth rate in most areas. Our poverty levels are falling.\n",
        "               Our achievements are being globally recognised today. Yet we lack the self-confidence to\n",
        "               see ourselves as a developed nation, self-reliant and self-assured. Isn’t this incorrect?\n",
        "               I have a third vision. India must stand up to the world. Because I believe that unless India \n",
        "               stands up to the world, no one will respect us. Only strength respects strength. We must be \n",
        "               strong not only as a military power but also as an economic power. Both must go hand-in-hand. \n",
        "               My good fortune was to have worked with three great minds. Dr. Vikram Sarabhai of the Dept. of \n",
        "               space, Professor Satish Dhawan, who succeeded him and Dr. Brahm Prakash, father of nuclear material.\n",
        "               I was lucky to have worked with all three of them closely and consider this the great opportunity of my life. \n",
        "               I see four milestones in my career\"\"\"\n",
        "\n",
        "paragraph"
      ],
      "metadata": {
        "colab": {
          "base_uri": "https://localhost:8080/",
          "height": 107
        },
        "id": "3sfnov0oPDrB",
        "outputId": "d0dbcba9-0004-4648-9a11-5205687285b1"
      },
      "id": "3sfnov0oPDrB",
      "execution_count": 81,
      "outputs": [
        {
          "output_type": "execute_result",
          "data": {
            "application/vnd.google.colaboratory.intrinsic+json": {
              "type": "string"
            },
            "text/plain": [
              "'I have three visions for India. In 3000 years of our history, people from all over \\n               the world have come and invaded us, captured our lands, conquered our minds. \\n               From Alexander onwards, the Greeks, the Turks, the Moguls, the Portuguese, the British,\\n               the French, the Dutch, all of them came and looted us, took over what was ours. \\n               Yet we have not done this to any other nation. We have not conquered anyone. \\n               We have not grabbed their land, their culture, \\n               their history and tried to enforce our way of life on them. \\n               Why? Because we respect the freedom of others.That is why my \\n               first vision is that of freedom. I believe that India got its first vision of \\n               this in 1857, when we started the War of Independence. It is this freedom that\\n               we must protect and nurture and build on. If we are not free, no one will respect us.\\n               My second vision for India’s development. For fifty years we have been a developing nation.\\n               It is time we see ourselves as a developed nation. We are among the top 5 nations of the world\\n               in terms of GDP. We have a 10 percent growth rate in most areas. Our poverty levels are falling.\\n               Our achievements are being globally recognised today. Yet we lack the self-confidence to\\n               see ourselves as a developed nation, self-reliant and self-assured. Isn’t this incorrect?\\n               I have a third vision. India must stand up to the world. Because I believe that unless India \\n               stands up to the world, no one will respect us. Only strength respects strength. We must be \\n               strong not only as a military power but also as an economic power. Both must go hand-in-hand. \\n               My good fortune was to have worked with three great minds. Dr. Vikram Sarabhai of the Dept. of \\n               space, Professor Satish Dhawan, who succeeded him and Dr. Brahm Prakash, father of nuclear material.\\n               I was lucky to have worked with all three of them closely and consider this the great opportunity of my life. \\n               I see four milestones in my career'"
            ]
          },
          "metadata": {},
          "execution_count": 81
        }
      ]
    },
    {
      "cell_type": "code",
      "source": [
        "sentences = nltk.sent_tokenize(paragraph)\n",
        "sentences"
      ],
      "metadata": {
        "colab": {
          "base_uri": "https://localhost:8080/"
        },
        "id": "A7Mg4dqfRiTj",
        "outputId": "6f0571ab-6062-40f6-eadd-3a66cac2c448"
      },
      "id": "A7Mg4dqfRiTj",
      "execution_count": 82,
      "outputs": [
        {
          "output_type": "execute_result",
          "data": {
            "text/plain": [
              "['I have three visions for India.',\n",
              " 'In 3000 years of our history, people from all over \\n               the world have come and invaded us, captured our lands, conquered our minds.',\n",
              " 'From Alexander onwards, the Greeks, the Turks, the Moguls, the Portuguese, the British,\\n               the French, the Dutch, all of them came and looted us, took over what was ours.',\n",
              " 'Yet we have not done this to any other nation.',\n",
              " 'We have not conquered anyone.',\n",
              " 'We have not grabbed their land, their culture, \\n               their history and tried to enforce our way of life on them.',\n",
              " 'Why?',\n",
              " 'Because we respect the freedom of others.That is why my \\n               first vision is that of freedom.',\n",
              " 'I believe that India got its first vision of \\n               this in 1857, when we started the War of Independence.',\n",
              " 'It is this freedom that\\n               we must protect and nurture and build on.',\n",
              " 'If we are not free, no one will respect us.',\n",
              " 'My second vision for India’s development.',\n",
              " 'For fifty years we have been a developing nation.',\n",
              " 'It is time we see ourselves as a developed nation.',\n",
              " 'We are among the top 5 nations of the world\\n               in terms of GDP.',\n",
              " 'We have a 10 percent growth rate in most areas.',\n",
              " 'Our poverty levels are falling.',\n",
              " 'Our achievements are being globally recognised today.',\n",
              " 'Yet we lack the self-confidence to\\n               see ourselves as a developed nation, self-reliant and self-assured.',\n",
              " 'Isn’t this incorrect?',\n",
              " 'I have a third vision.',\n",
              " 'India must stand up to the world.',\n",
              " 'Because I believe that unless India \\n               stands up to the world, no one will respect us.',\n",
              " 'Only strength respects strength.',\n",
              " 'We must be \\n               strong not only as a military power but also as an economic power.',\n",
              " 'Both must go hand-in-hand.',\n",
              " 'My good fortune was to have worked with three great minds.',\n",
              " 'Dr. Vikram Sarabhai of the Dept.',\n",
              " 'of \\n               space, Professor Satish Dhawan, who succeeded him and Dr. Brahm Prakash, father of nuclear material.',\n",
              " 'I was lucky to have worked with all three of them closely and consider this the great opportunity of my life.',\n",
              " 'I see four milestones in my career']"
            ]
          },
          "metadata": {},
          "execution_count": 82
        }
      ]
    },
    {
      "cell_type": "code",
      "source": [
        "sentences[1]"
      ],
      "metadata": {
        "colab": {
          "base_uri": "https://localhost:8080/",
          "height": 36
        },
        "id": "lvbsO2Knbc8U",
        "outputId": "1e1fbc1f-3560-48fb-938b-6c46ff7865da"
      },
      "id": "lvbsO2Knbc8U",
      "execution_count": 83,
      "outputs": [
        {
          "output_type": "execute_result",
          "data": {
            "application/vnd.google.colaboratory.intrinsic+json": {
              "type": "string"
            },
            "text/plain": [
              "'In 3000 years of our history, people from all over \\n               the world have come and invaded us, captured our lands, conquered our minds.'"
            ]
          },
          "metadata": {},
          "execution_count": 83
        }
      ]
    },
    {
      "cell_type": "code",
      "source": [
        "for i in range(len(sentences)):\n",
        "  sentences[i] = re.sub('[^a-zA-Z]', ' ', sentences[i]).lower()\n",
        "  sentences[i] = re.sub('\\s+', ' ', sentences[i])\n",
        "  sentences[i] = re.sub('\\d+', ' ', sentences[i])"
      ],
      "metadata": {
        "id": "RvGEa7v6TUPw"
      },
      "id": "RvGEa7v6TUPw",
      "execution_count": 84,
      "outputs": []
    },
    {
      "cell_type": "code",
      "source": [
        "sentences"
      ],
      "metadata": {
        "colab": {
          "base_uri": "https://localhost:8080/"
        },
        "id": "gCGrFXFR1yNK",
        "outputId": "200ac0af-bdb2-41c0-e642-8f8e41449998"
      },
      "id": "gCGrFXFR1yNK",
      "execution_count": 85,
      "outputs": [
        {
          "output_type": "execute_result",
          "data": {
            "text/plain": [
              "['i have three visions for india ',\n",
              " 'in years of our history people from all over the world have come and invaded us captured our lands conquered our minds ',\n",
              " 'from alexander onwards the greeks the turks the moguls the portuguese the british the french the dutch all of them came and looted us took over what was ours ',\n",
              " 'yet we have not done this to any other nation ',\n",
              " 'we have not conquered anyone ',\n",
              " 'we have not grabbed their land their culture their history and tried to enforce our way of life on them ',\n",
              " 'why ',\n",
              " 'because we respect the freedom of others that is why my first vision is that of freedom ',\n",
              " 'i believe that india got its first vision of this in when we started the war of independence ',\n",
              " 'it is this freedom that we must protect and nurture and build on ',\n",
              " 'if we are not free no one will respect us ',\n",
              " 'my second vision for india s development ',\n",
              " 'for fifty years we have been a developing nation ',\n",
              " 'it is time we see ourselves as a developed nation ',\n",
              " 'we are among the top nations of the world in terms of gdp ',\n",
              " 'we have a percent growth rate in most areas ',\n",
              " 'our poverty levels are falling ',\n",
              " 'our achievements are being globally recognised today ',\n",
              " 'yet we lack the self confidence to see ourselves as a developed nation self reliant and self assured ',\n",
              " 'isn t this incorrect ',\n",
              " 'i have a third vision ',\n",
              " 'india must stand up to the world ',\n",
              " 'because i believe that unless india stands up to the world no one will respect us ',\n",
              " 'only strength respects strength ',\n",
              " 'we must be strong not only as a military power but also as an economic power ',\n",
              " 'both must go hand in hand ',\n",
              " 'my good fortune was to have worked with three great minds ',\n",
              " 'dr vikram sarabhai of the dept ',\n",
              " 'of space professor satish dhawan who succeeded him and dr brahm prakash father of nuclear material ',\n",
              " 'i was lucky to have worked with all three of them closely and consider this the great opportunity of my life ',\n",
              " 'i see four milestones in my career']"
            ]
          },
          "metadata": {},
          "execution_count": 85
        }
      ]
    },
    {
      "cell_type": "code",
      "source": [
        "for i in range(len(sentences)):\n",
        "  sentences[i] = nltk.word_tokenize(sentences[i])\n",
        "  sentences[i] = [WordNetLemmatizer().lemmatize(word) for word in sentences[i] if word not in stopwords.words('english')]"
      ],
      "metadata": {
        "id": "Oz3D8SqJe23m"
      },
      "id": "Oz3D8SqJe23m",
      "execution_count": 86,
      "outputs": []
    },
    {
      "cell_type": "code",
      "source": [
        "sentences[1]"
      ],
      "metadata": {
        "id": "4z--KkDWfCfE",
        "outputId": "302ccc91-0c95-4edc-f189-dd3e37064456",
        "colab": {
          "base_uri": "https://localhost:8080/"
        }
      },
      "id": "4z--KkDWfCfE",
      "execution_count": 87,
      "outputs": [
        {
          "output_type": "execute_result",
          "data": {
            "text/plain": [
              "['year',\n",
              " 'history',\n",
              " 'people',\n",
              " 'world',\n",
              " 'come',\n",
              " 'invaded',\n",
              " 'u',\n",
              " 'captured',\n",
              " 'land',\n",
              " 'conquered',\n",
              " 'mind']"
            ]
          },
          "metadata": {},
          "execution_count": 87
        }
      ]
    },
    {
      "cell_type": "code",
      "source": [
        "from gensim.models import Word2Vec\n",
        "\n",
        "model = Word2Vec(sentences = sentences, min_count = 1)"
      ],
      "metadata": {
        "id": "EShxYkgLZleu"
      },
      "id": "EShxYkgLZleu",
      "execution_count": 88,
      "outputs": []
    },
    {
      "cell_type": "code",
      "source": [
        "vocabulary = model.wv.vocab\n",
        "vocabulary"
      ],
      "metadata": {
        "colab": {
          "base_uri": "https://localhost:8080/"
        },
        "id": "g20mrSPXX6IH",
        "outputId": "45dfbc64-bb3c-481d-fdd7-bbf51529d250"
      },
      "id": "g20mrSPXX6IH",
      "execution_count": 89,
      "outputs": [
        {
          "output_type": "execute_result",
          "data": {
            "text/plain": [
              "{'achievement': <gensim.models.keyedvectors.Vocab at 0x7fc784309610>,\n",
              " 'alexander': <gensim.models.keyedvectors.Vocab at 0x7fc784308b50>,\n",
              " 'also': <gensim.models.keyedvectors.Vocab at 0x7fc784309d10>,\n",
              " 'among': <gensim.models.keyedvectors.Vocab at 0x7fc7843098d0>,\n",
              " 'anyone': <gensim.models.keyedvectors.Vocab at 0x7fc784308ed0>,\n",
              " 'area': <gensim.models.keyedvectors.Vocab at 0x7fc7843092d0>,\n",
              " 'assured': <gensim.models.keyedvectors.Vocab at 0x7fc784309050>,\n",
              " 'believe': <gensim.models.keyedvectors.Vocab at 0x7fc784309410>,\n",
              " 'brahm': <gensim.models.keyedvectors.Vocab at 0x7fc78433dad0>,\n",
              " 'british': <gensim.models.keyedvectors.Vocab at 0x7fc784308e50>,\n",
              " 'build': <gensim.models.keyedvectors.Vocab at 0x7fc784309310>,\n",
              " 'came': <gensim.models.keyedvectors.Vocab at 0x7fc784308c50>,\n",
              " 'captured': <gensim.models.keyedvectors.Vocab at 0x7fc784308d90>,\n",
              " 'career': <gensim.models.keyedvectors.Vocab at 0x7fc78433da90>,\n",
              " 'closely': <gensim.models.keyedvectors.Vocab at 0x7fc78433d690>,\n",
              " 'come': <gensim.models.keyedvectors.Vocab at 0x7fc784308e10>,\n",
              " 'confidence': <gensim.models.keyedvectors.Vocab at 0x7fc784309950>,\n",
              " 'conquered': <gensim.models.keyedvectors.Vocab at 0x7fc7843089d0>,\n",
              " 'consider': <gensim.models.keyedvectors.Vocab at 0x7fc78433dd50>,\n",
              " 'culture': <gensim.models.keyedvectors.Vocab at 0x7fc784308b90>,\n",
              " 'dept': <gensim.models.keyedvectors.Vocab at 0x7fc78433d3d0>,\n",
              " 'developed': <gensim.models.keyedvectors.Vocab at 0x7fc784309bd0>,\n",
              " 'developing': <gensim.models.keyedvectors.Vocab at 0x7fc7843099d0>,\n",
              " 'development': <gensim.models.keyedvectors.Vocab at 0x7fc7843090d0>,\n",
              " 'dhawan': <gensim.models.keyedvectors.Vocab at 0x7fc78433d150>,\n",
              " 'done': <gensim.models.keyedvectors.Vocab at 0x7fc784308ad0>,\n",
              " 'dr': <gensim.models.keyedvectors.Vocab at 0x7fc78433dd90>,\n",
              " 'dutch': <gensim.models.keyedvectors.Vocab at 0x7fc784308990>,\n",
              " 'economic': <gensim.models.keyedvectors.Vocab at 0x7fc784309ed0>,\n",
              " 'enforce': <gensim.models.keyedvectors.Vocab at 0x7fc784309550>,\n",
              " 'falling': <gensim.models.keyedvectors.Vocab at 0x7fc784309350>,\n",
              " 'father': <gensim.models.keyedvectors.Vocab at 0x7fc78433d410>,\n",
              " 'fifty': <gensim.models.keyedvectors.Vocab at 0x7fc784309b10>,\n",
              " 'first': <gensim.models.keyedvectors.Vocab at 0x7fc784309110>,\n",
              " 'fortune': <gensim.models.keyedvectors.Vocab at 0x7fc784309dd0>,\n",
              " 'four': <gensim.models.keyedvectors.Vocab at 0x7fc78433d1d0>,\n",
              " 'free': <gensim.models.keyedvectors.Vocab at 0x7fc784309a50>,\n",
              " 'freedom': <gensim.models.keyedvectors.Vocab at 0x7fc784309710>,\n",
              " 'french': <gensim.models.keyedvectors.Vocab at 0x7fc784308a90>,\n",
              " 'gdp': <gensim.models.keyedvectors.Vocab at 0x7fc7843094d0>,\n",
              " 'globally': <gensim.models.keyedvectors.Vocab at 0x7fc784309c10>,\n",
              " 'go': <gensim.models.keyedvectors.Vocab at 0x7fc784309d90>,\n",
              " 'good': <gensim.models.keyedvectors.Vocab at 0x7fc784309e90>,\n",
              " 'got': <gensim.models.keyedvectors.Vocab at 0x7fc784309f50>,\n",
              " 'grabbed': <gensim.models.keyedvectors.Vocab at 0x7fc784308b10>,\n",
              " 'great': <gensim.models.keyedvectors.Vocab at 0x7fc784309d50>,\n",
              " 'greek': <gensim.models.keyedvectors.Vocab at 0x7fc784308a10>,\n",
              " 'growth': <gensim.models.keyedvectors.Vocab at 0x7fc784309190>,\n",
              " 'hand': <gensim.models.keyedvectors.Vocab at 0x7fc784309e50>,\n",
              " 'history': <gensim.models.keyedvectors.Vocab at 0x7fc784308bd0>,\n",
              " 'incorrect': <gensim.models.keyedvectors.Vocab at 0x7fc784309c50>,\n",
              " 'independence': <gensim.models.keyedvectors.Vocab at 0x7fc7843093d0>,\n",
              " 'india': <gensim.models.keyedvectors.Vocab at 0x7fc78434f690>,\n",
              " 'invaded': <gensim.models.keyedvectors.Vocab at 0x7fc78434f590>,\n",
              " 'lack': <gensim.models.keyedvectors.Vocab at 0x7fc784309990>,\n",
              " 'land': <gensim.models.keyedvectors.Vocab at 0x7fc784308a50>,\n",
              " 'level': <gensim.models.keyedvectors.Vocab at 0x7fc7843096d0>,\n",
              " 'life': <gensim.models.keyedvectors.Vocab at 0x7fc784309490>,\n",
              " 'looted': <gensim.models.keyedvectors.Vocab at 0x7fc784308d10>,\n",
              " 'lucky': <gensim.models.keyedvectors.Vocab at 0x7fc78433d950>,\n",
              " 'material': <gensim.models.keyedvectors.Vocab at 0x7fc78433da50>,\n",
              " 'milestone': <gensim.models.keyedvectors.Vocab at 0x7fc78433d190>,\n",
              " 'military': <gensim.models.keyedvectors.Vocab at 0x7fc784309850>,\n",
              " 'mind': <gensim.models.keyedvectors.Vocab at 0x7fc784308f10>,\n",
              " 'mogul': <gensim.models.keyedvectors.Vocab at 0x7fc784308c90>,\n",
              " 'must': <gensim.models.keyedvectors.Vocab at 0x7fc784309690>,\n",
              " 'nation': <gensim.models.keyedvectors.Vocab at 0x7fc784308cd0>,\n",
              " 'nuclear': <gensim.models.keyedvectors.Vocab at 0x7fc78433d450>,\n",
              " 'nurture': <gensim.models.keyedvectors.Vocab at 0x7fc7843097d0>,\n",
              " 'one': <gensim.models.keyedvectors.Vocab at 0x7fc784309450>,\n",
              " 'onwards': <gensim.models.keyedvectors.Vocab at 0x7fc784308c10>,\n",
              " 'opportunity': <gensim.models.keyedvectors.Vocab at 0x7fc78433d890>,\n",
              " 'others': <gensim.models.keyedvectors.Vocab at 0x7fc784309b50>,\n",
              " 'people': <gensim.models.keyedvectors.Vocab at 0x7fc784308950>,\n",
              " 'percent': <gensim.models.keyedvectors.Vocab at 0x7fc784309510>,\n",
              " 'portuguese': <gensim.models.keyedvectors.Vocab at 0x7fc784308e90>,\n",
              " 'poverty': <gensim.models.keyedvectors.Vocab at 0x7fc784309090>,\n",
              " 'power': <gensim.models.keyedvectors.Vocab at 0x7fc784309cd0>,\n",
              " 'prakash': <gensim.models.keyedvectors.Vocab at 0x7fc78433d4d0>,\n",
              " 'professor': <gensim.models.keyedvectors.Vocab at 0x7fc78433d590>,\n",
              " 'protect': <gensim.models.keyedvectors.Vocab at 0x7fc7843091d0>,\n",
              " 'rate': <gensim.models.keyedvectors.Vocab at 0x7fc784309a90>,\n",
              " 'recognised': <gensim.models.keyedvectors.Vocab at 0x7fc784309650>,\n",
              " 'reliant': <gensim.models.keyedvectors.Vocab at 0x7fc784309c90>,\n",
              " 'respect': <gensim.models.keyedvectors.Vocab at 0x7fc784309210>,\n",
              " 'sarabhai': <gensim.models.keyedvectors.Vocab at 0x7fc78433de90>,\n",
              " 'satish': <gensim.models.keyedvectors.Vocab at 0x7fc78433df90>,\n",
              " 'second': <gensim.models.keyedvectors.Vocab at 0x7fc784309a10>,\n",
              " 'see': <gensim.models.keyedvectors.Vocab at 0x7fc784309ad0>,\n",
              " 'self': <gensim.models.keyedvectors.Vocab at 0x7fc784309f90>,\n",
              " 'space': <gensim.models.keyedvectors.Vocab at 0x7fc78433d0d0>,\n",
              " 'stand': <gensim.models.keyedvectors.Vocab at 0x7fc784309f10>,\n",
              " 'started': <gensim.models.keyedvectors.Vocab at 0x7fc784309150>,\n",
              " 'strength': <gensim.models.keyedvectors.Vocab at 0x7fc784309590>,\n",
              " 'strong': <gensim.models.keyedvectors.Vocab at 0x7fc784309fd0>,\n",
              " 'succeeded': <gensim.models.keyedvectors.Vocab at 0x7fc78433dc10>,\n",
              " 'term': <gensim.models.keyedvectors.Vocab at 0x7fc784309890>,\n",
              " 'third': <gensim.models.keyedvectors.Vocab at 0x7fc784309810>,\n",
              " 'three': <gensim.models.keyedvectors.Vocab at 0x7fc784368a50>,\n",
              " 'time': <gensim.models.keyedvectors.Vocab at 0x7fc784309250>,\n",
              " 'today': <gensim.models.keyedvectors.Vocab at 0x7fc784309b90>,\n",
              " 'took': <gensim.models.keyedvectors.Vocab at 0x7fc784308f90>,\n",
              " 'top': <gensim.models.keyedvectors.Vocab at 0x7fc784309910>,\n",
              " 'tried': <gensim.models.keyedvectors.Vocab at 0x7fc784309750>,\n",
              " 'turk': <gensim.models.keyedvectors.Vocab at 0x7fc784308fd0>,\n",
              " 'u': <gensim.models.keyedvectors.Vocab at 0x7fc784308f50>,\n",
              " 'unless': <gensim.models.keyedvectors.Vocab at 0x7fc784309790>,\n",
              " 'vikram': <gensim.models.keyedvectors.Vocab at 0x7fc78433d490>,\n",
              " 'vision': <gensim.models.keyedvectors.Vocab at 0x7fc78434f8d0>,\n",
              " 'war': <gensim.models.keyedvectors.Vocab at 0x7fc7843095d0>,\n",
              " 'way': <gensim.models.keyedvectors.Vocab at 0x7fc784309290>,\n",
              " 'worked': <gensim.models.keyedvectors.Vocab at 0x7fc784309e10>,\n",
              " 'world': <gensim.models.keyedvectors.Vocab at 0x7fc784308dd0>,\n",
              " 'year': <gensim.models.keyedvectors.Vocab at 0x7fc78434ff50>,\n",
              " 'yet': <gensim.models.keyedvectors.Vocab at 0x7fc784308d50>}"
            ]
          },
          "metadata": {},
          "execution_count": 89
        }
      ]
    },
    {
      "cell_type": "code",
      "source": [
        "vectors = model.wv['strong']\n",
        "vectors"
      ],
      "metadata": {
        "id": "HdQVE_8XRqA_",
        "outputId": "8f2e539c-abb0-4b04-c7b5-c5015c1594b7",
        "colab": {
          "base_uri": "https://localhost:8080/"
        }
      },
      "id": "HdQVE_8XRqA_",
      "execution_count": 94,
      "outputs": [
        {
          "output_type": "execute_result",
          "data": {
            "text/plain": [
              "array([-1.8461490e-03,  4.3365550e-03, -4.1489187e-03, -4.1584470e-03,\n",
              "        6.2133186e-04, -4.0801540e-03, -1.2778039e-03, -2.6492442e-03,\n",
              "        1.6379991e-03, -2.8298644e-04,  2.4636411e-03,  2.4812596e-03,\n",
              "       -1.2574971e-03, -1.9676019e-03, -3.0879078e-03, -9.0211135e-05,\n",
              "       -1.1333370e-03, -4.6990244e-03,  1.4379595e-03, -1.9201065e-03,\n",
              "       -1.1492660e-03, -2.0899366e-04, -2.4476920e-03, -1.3212801e-03,\n",
              "        2.6897802e-03, -3.5730503e-03, -2.4592012e-04, -4.6332041e-03,\n",
              "       -1.3120790e-04, -3.8007207e-03,  1.8474804e-03, -1.9140962e-03,\n",
              "        1.4786913e-04,  3.9617452e-03, -2.8099760e-03,  2.7465967e-03,\n",
              "       -3.8774246e-03,  2.3146586e-03,  3.5587631e-03, -4.6535600e-03,\n",
              "        3.7938962e-03, -3.4550249e-03,  2.8854352e-03, -7.5858471e-04,\n",
              "       -1.1746042e-03,  4.9789716e-03,  4.1537220e-03, -3.6844453e-03,\n",
              "        2.9244821e-03, -1.0194568e-03, -4.9485769e-03,  4.1562142e-03,\n",
              "       -7.8300072e-05, -3.9539370e-03, -4.6907601e-04,  3.6031432e-03,\n",
              "       -2.9770967e-03,  1.6477350e-03, -9.7174488e-04,  1.9548675e-03,\n",
              "       -3.1279440e-03,  4.6710574e-04,  1.1348674e-03,  1.9388000e-04,\n",
              "        3.5860152e-03,  2.8631610e-03,  1.0566753e-03, -3.0359109e-03,\n",
              "       -3.8530172e-03,  1.6633628e-03, -1.5191850e-03,  3.7556279e-03,\n",
              "        2.2981556e-03, -6.1219733e-04,  4.3997630e-03, -4.5325891e-03,\n",
              "       -3.7748166e-03,  3.0658592e-03, -7.8548270e-04, -3.9179581e-03,\n",
              "        2.9800488e-03, -3.8172251e-03, -1.8691411e-03,  3.4007204e-03,\n",
              "        4.4512595e-03,  4.4610677e-03,  1.4235053e-03, -3.2391576e-03,\n",
              "       -1.1284287e-04,  4.7525200e-03, -2.2695411e-03, -2.2984613e-03,\n",
              "        1.5529171e-03,  4.1062557e-03, -2.6995682e-03,  2.1121080e-03,\n",
              "        2.7734053e-03,  4.8348308e-03, -3.5091265e-04,  5.9004320e-04],\n",
              "      dtype=float32)"
            ]
          },
          "metadata": {},
          "execution_count": 94
        }
      ]
    },
    {
      "cell_type": "code",
      "source": [
        "similar_word = model.wv.most_similar('strong')\n",
        "similar_word"
      ],
      "metadata": {
        "id": "hNovI-1cfPsn",
        "outputId": "25937176-8f68-46f0-c442-59bf601b3aa3",
        "colab": {
          "base_uri": "https://localhost:8080/"
        }
      },
      "id": "hNovI-1cfPsn",
      "execution_count": 95,
      "outputs": [
        {
          "output_type": "execute_result",
          "data": {
            "text/plain": [
              "[('economic', 0.2870889902114868),\n",
              " ('india', 0.27535128593444824),\n",
              " ('captured', 0.22527000308036804),\n",
              " ('term', 0.22031661868095398),\n",
              " ('dr', 0.2054889053106308),\n",
              " ('succeeded', 0.18312522768974304),\n",
              " ('history', 0.159962460398674),\n",
              " ('nation', 0.1249661073088646),\n",
              " ('build', 0.12397345900535583),\n",
              " ('strength', 0.12118992954492569)]"
            ]
          },
          "metadata": {},
          "execution_count": 95
        }
      ]
    }
  ],
  "metadata": {
    "kernelspec": {
      "display_name": "Python 3 (ipykernel)",
      "language": "python",
      "name": "python3"
    },
    "language_info": {
      "codemirror_mode": {
        "name": "ipython",
        "version": 3
      },
      "file_extension": ".py",
      "mimetype": "text/x-python",
      "name": "python",
      "nbconvert_exporter": "python",
      "pygments_lexer": "ipython3",
      "version": "3.8.11"
    },
    "colab": {
      "name": "Word2Vec.ipynb",
      "provenance": []
    }
  },
  "nbformat": 4,
  "nbformat_minor": 5
}